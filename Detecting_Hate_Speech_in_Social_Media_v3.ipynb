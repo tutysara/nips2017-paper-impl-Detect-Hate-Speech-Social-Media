{
 "cells": [
  {
   "cell_type": "markdown",
   "metadata": {},
   "source": [
    "## Detecting Hate Speech in Social Media"
   ]
  },
  {
   "cell_type": "markdown",
   "metadata": {},
   "source": [
    "Here we try to implement the paper\n",
    "\n",
    "Detecting Hate Speech in Social Media by Shervin Malmasi & Marcos Zampieri"
   ]
  },
  {
   "cell_type": "markdown",
   "metadata": {},
   "source": [
    "Here is the abstract from the paper\n",
    "\n",
    "### Abstract\n",
    "\n",
    "    In this paper we examine methods to detect\n",
    "    hate speech in social media, while\n",
    "    distinguishing this from general profanity.\n",
    "    We aim to establish lexical baselines for\n",
    "    this task by applying supervised classification\n",
    "    methods using a recently released\n",
    "    dataset annotated for this purpose. As features,\n",
    "    our system uses character n-grams,\n",
    "    word n-grams and word skip-grams. We\n",
    "    obtain results of 78% accuracy in identifying\n",
    "    posts across three classes. Results\n",
    "    demonstrate that the main challenge lies in\n",
    "    discriminating profanity and hate speech\n",
    "    from each other. A number of directions\n",
    "    for future work are discussed"
   ]
  },
  {
   "cell_type": "markdown",
   "metadata": {},
   "source": [
    "## We start by importing the necessary libraries and preprocess the data as per the preprocessing steps outlined in the paper"
   ]
  },
  {
   "cell_type": "code",
   "execution_count": 1,
   "metadata": {},
   "outputs": [],
   "source": [
    "# import necessary libs and setup notebook\n",
    "\n",
    "import html\n",
    "import numpy as np\n",
    "import nltk\n",
    "import pandas as pd\n",
    "import pickle\n",
    "import re\n",
    "import seaborn as sns\n",
    "\n",
    "from matplotlib import pyplot as plt\n",
    "from nltk.util import skipgrams\n",
    "\n",
    "from nltk.stem.porter import PorterStemmer\n",
    "from nltk.corpus import stopwords\n",
    "\n",
    "from sklearn.feature_extraction.text import CountVectorizer\n",
    "from sklearn.feature_extraction.text import TfidfVectorizer\n",
    "from sklearn.metrics import confusion_matrix\n",
    "from sklearn.model_selection import StratifiedKFold\n",
    "from sklearn.svm import LinearSVC\n",
    "from sklearn.metrics import accuracy_score\n",
    "\n",
    "from scipy.sparse import hstack\n",
    "\n",
    "pd.set_option('display.max_colwidth', 95)\n",
    "pd.set_option('display.precision', 3)\n",
    "\n",
    "%matplotlib inline"
   ]
  },
  {
   "cell_type": "markdown",
   "metadata": {},
   "source": [
    "The data is downloaded from the source given in the paper\n",
    "\n",
    "https://data.world/crowdflower/hate-speech-identification\n",
    "    \n",
    "and placed in the `data` directory\n"
   ]
  },
  {
   "cell_type": "code",
   "execution_count": 2,
   "metadata": {},
   "outputs": [
    {
     "data": {
      "text/plain": [
       "(14509, 20)"
      ]
     },
     "execution_count": 2,
     "metadata": {},
     "output_type": "execute_result"
    }
   ],
   "source": [
    "data_file_name = 'data/twitter-hate-speech-classifier-DFE-a845520.csv'\n",
    "df_raw = pd.read_csv(data_file_name)\n",
    "df_raw.shape"
   ]
  },
  {
   "cell_type": "code",
   "execution_count": 3,
   "metadata": {},
   "outputs": [
    {
     "data": {
      "text/html": [
       "<div>\n",
       "<style scoped>\n",
       "    .dataframe tbody tr th:only-of-type {\n",
       "        vertical-align: middle;\n",
       "    }\n",
       "\n",
       "    .dataframe tbody tr th {\n",
       "        vertical-align: top;\n",
       "    }\n",
       "\n",
       "    .dataframe thead th {\n",
       "        text-align: right;\n",
       "    }\n",
       "</style>\n",
       "<table border=\"1\" class=\"dataframe\">\n",
       "  <thead>\n",
       "    <tr style=\"text-align: right;\">\n",
       "      <th></th>\n",
       "      <th>_unit_id</th>\n",
       "      <th>_golden</th>\n",
       "      <th>_unit_state</th>\n",
       "      <th>_trusted_judgments</th>\n",
       "      <th>_last_judgment_at</th>\n",
       "      <th>does_this_tweet_contain_hate_speech</th>\n",
       "      <th>does_this_tweet_contain_hate_speech:confidence</th>\n",
       "      <th>_created_at</th>\n",
       "      <th>orig__golden</th>\n",
       "      <th>orig__last_judgment_at</th>\n",
       "      <th>orig__trusted_judgments</th>\n",
       "      <th>orig__unit_id</th>\n",
       "      <th>orig__unit_state</th>\n",
       "      <th>_updated_at</th>\n",
       "      <th>orig_does_this_tweet_contain_hate_speech</th>\n",
       "      <th>does_this_tweet_contain_hate_speech_gold</th>\n",
       "      <th>does_this_tweet_contain_hate_speech_gold_reason</th>\n",
       "      <th>does_this_tweet_contain_hate_speechconfidence</th>\n",
       "      <th>tweet_id</th>\n",
       "      <th>tweet_text</th>\n",
       "    </tr>\n",
       "  </thead>\n",
       "  <tbody>\n",
       "    <tr>\n",
       "      <th>0</th>\n",
       "      <td>853718217</td>\n",
       "      <td>True</td>\n",
       "      <td>golden</td>\n",
       "      <td>86</td>\n",
       "      <td>NaN</td>\n",
       "      <td>The tweet uses offensive language but not hate speech</td>\n",
       "      <td>0.601</td>\n",
       "      <td>NaN</td>\n",
       "      <td>True</td>\n",
       "      <td>NaN</td>\n",
       "      <td>0.0</td>\n",
       "      <td>6.156e+08</td>\n",
       "      <td>golden</td>\n",
       "      <td>NaN</td>\n",
       "      <td>The tweet contains hate speech</td>\n",
       "      <td>The tweet contains hate speech\\rThe tweet uses offensive language but not hate speech</td>\n",
       "      <td>NaN</td>\n",
       "      <td>1.0</td>\n",
       "      <td>1.666e+09</td>\n",
       "      <td>Warning: penny boards will make you a faggot</td>\n",
       "    </tr>\n",
       "    <tr>\n",
       "      <th>1</th>\n",
       "      <td>853718218</td>\n",
       "      <td>True</td>\n",
       "      <td>golden</td>\n",
       "      <td>92</td>\n",
       "      <td>NaN</td>\n",
       "      <td>The tweet contains hate speech</td>\n",
       "      <td>0.723</td>\n",
       "      <td>NaN</td>\n",
       "      <td>True</td>\n",
       "      <td>NaN</td>\n",
       "      <td>0.0</td>\n",
       "      <td>6.156e+08</td>\n",
       "      <td>golden</td>\n",
       "      <td>NaN</td>\n",
       "      <td>The tweet contains hate speech</td>\n",
       "      <td>The tweet contains hate speech\\rThe tweet uses offensive language but not hate speech</td>\n",
       "      <td>NaN</td>\n",
       "      <td>1.0</td>\n",
       "      <td>4.295e+08</td>\n",
       "      <td>Fuck dykes</td>\n",
       "    </tr>\n",
       "    <tr>\n",
       "      <th>2</th>\n",
       "      <td>853718219</td>\n",
       "      <td>True</td>\n",
       "      <td>golden</td>\n",
       "      <td>86</td>\n",
       "      <td>NaN</td>\n",
       "      <td>The tweet contains hate speech</td>\n",
       "      <td>0.523</td>\n",
       "      <td>NaN</td>\n",
       "      <td>True</td>\n",
       "      <td>NaN</td>\n",
       "      <td>0.0</td>\n",
       "      <td>6.156e+08</td>\n",
       "      <td>golden</td>\n",
       "      <td>NaN</td>\n",
       "      <td>The tweet contains hate speech</td>\n",
       "      <td>The tweet contains hate speech\\rThe tweet uses offensive language but not hate speech</td>\n",
       "      <td>NaN</td>\n",
       "      <td>1.0</td>\n",
       "      <td>3.956e+08</td>\n",
       "      <td>@sizzurp__ @ILIKECATS74 @yoPapi_chulo @brandonernandez @bootyacid at least i dont look like...</td>\n",
       "    </tr>\n",
       "    <tr>\n",
       "      <th>3</th>\n",
       "      <td>853718220</td>\n",
       "      <td>True</td>\n",
       "      <td>golden</td>\n",
       "      <td>98</td>\n",
       "      <td>NaN</td>\n",
       "      <td>The tweet contains hate speech</td>\n",
       "      <td>0.518</td>\n",
       "      <td>NaN</td>\n",
       "      <td>True</td>\n",
       "      <td>NaN</td>\n",
       "      <td>0.0</td>\n",
       "      <td>6.156e+08</td>\n",
       "      <td>golden</td>\n",
       "      <td>NaN</td>\n",
       "      <td>The tweet contains hate speech</td>\n",
       "      <td>The tweet contains hate speech\\rThe tweet uses offensive language but not hate speech</td>\n",
       "      <td>NaN</td>\n",
       "      <td>1.0</td>\n",
       "      <td>4.975e+08</td>\n",
       "      <td>\"@jayswaggkillah: \"@JacklynAnnn: @jayswaggkillah Is a fag\" jackie jealous\" Neeeee</td>\n",
       "    </tr>\n",
       "    <tr>\n",
       "      <th>4</th>\n",
       "      <td>853718221</td>\n",
       "      <td>True</td>\n",
       "      <td>golden</td>\n",
       "      <td>88</td>\n",
       "      <td>NaN</td>\n",
       "      <td>The tweet uses offensive language but not hate speech</td>\n",
       "      <td>0.518</td>\n",
       "      <td>NaN</td>\n",
       "      <td>True</td>\n",
       "      <td>NaN</td>\n",
       "      <td>0.0</td>\n",
       "      <td>6.156e+08</td>\n",
       "      <td>golden</td>\n",
       "      <td>NaN</td>\n",
       "      <td>The tweet contains hate speech</td>\n",
       "      <td>The tweet contains hate speech\\rThe tweet uses offensive language but not hate speech</td>\n",
       "      <td>NaN</td>\n",
       "      <td>1.0</td>\n",
       "      <td>5.889e+08</td>\n",
       "      <td>@Zhugstubble You heard me bitch but any way I'm back th texas so wtf u talking about bitch ...</td>\n",
       "    </tr>\n",
       "  </tbody>\n",
       "</table>\n",
       "</div>"
      ],
      "text/plain": [
       "    _unit_id  _golden _unit_state  _trusted_judgments _last_judgment_at  \\\n",
       "0  853718217     True      golden                  86               NaN   \n",
       "1  853718218     True      golden                  92               NaN   \n",
       "2  853718219     True      golden                  86               NaN   \n",
       "3  853718220     True      golden                  98               NaN   \n",
       "4  853718221     True      golden                  88               NaN   \n",
       "\n",
       "                     does_this_tweet_contain_hate_speech  \\\n",
       "0  The tweet uses offensive language but not hate speech   \n",
       "1                         The tweet contains hate speech   \n",
       "2                         The tweet contains hate speech   \n",
       "3                         The tweet contains hate speech   \n",
       "4  The tweet uses offensive language but not hate speech   \n",
       "\n",
       "   does_this_tweet_contain_hate_speech:confidence  _created_at orig__golden  \\\n",
       "0                                           0.601          NaN         True   \n",
       "1                                           0.723          NaN         True   \n",
       "2                                           0.523          NaN         True   \n",
       "3                                           0.518          NaN         True   \n",
       "4                                           0.518          NaN         True   \n",
       "\n",
       "   orig__last_judgment_at  orig__trusted_judgments  orig__unit_id  \\\n",
       "0                     NaN                      0.0      6.156e+08   \n",
       "1                     NaN                      0.0      6.156e+08   \n",
       "2                     NaN                      0.0      6.156e+08   \n",
       "3                     NaN                      0.0      6.156e+08   \n",
       "4                     NaN                      0.0      6.156e+08   \n",
       "\n",
       "  orig__unit_state  _updated_at orig_does_this_tweet_contain_hate_speech  \\\n",
       "0           golden          NaN           The tweet contains hate speech   \n",
       "1           golden          NaN           The tweet contains hate speech   \n",
       "2           golden          NaN           The tweet contains hate speech   \n",
       "3           golden          NaN           The tweet contains hate speech   \n",
       "4           golden          NaN           The tweet contains hate speech   \n",
       "\n",
       "                                                does_this_tweet_contain_hate_speech_gold  \\\n",
       "0  The tweet contains hate speech\\rThe tweet uses offensive language but not hate speech   \n",
       "1  The tweet contains hate speech\\rThe tweet uses offensive language but not hate speech   \n",
       "2  The tweet contains hate speech\\rThe tweet uses offensive language but not hate speech   \n",
       "3  The tweet contains hate speech\\rThe tweet uses offensive language but not hate speech   \n",
       "4  The tweet contains hate speech\\rThe tweet uses offensive language but not hate speech   \n",
       "\n",
       "   does_this_tweet_contain_hate_speech_gold_reason  \\\n",
       "0                                              NaN   \n",
       "1                                              NaN   \n",
       "2                                              NaN   \n",
       "3                                              NaN   \n",
       "4                                              NaN   \n",
       "\n",
       "   does_this_tweet_contain_hate_speechconfidence   tweet_id  \\\n",
       "0                                            1.0  1.666e+09   \n",
       "1                                            1.0  4.295e+08   \n",
       "2                                            1.0  3.956e+08   \n",
       "3                                            1.0  4.975e+08   \n",
       "4                                            1.0  5.889e+08   \n",
       "\n",
       "                                                                                       tweet_text  \n",
       "0                                                    Warning: penny boards will make you a faggot  \n",
       "1                                                                                      Fuck dykes  \n",
       "2  @sizzurp__ @ILIKECATS74 @yoPapi_chulo @brandonernandez @bootyacid at least i dont look like...  \n",
       "3               \"@jayswaggkillah: \"@JacklynAnnn: @jayswaggkillah Is a fag\" jackie jealous\" Neeeee  \n",
       "4  @Zhugstubble You heard me bitch but any way I'm back th texas so wtf u talking about bitch ...  "
      ]
     },
     "execution_count": 3,
     "metadata": {},
     "output_type": "execute_result"
    }
   ],
   "source": [
    "df_raw.head()"
   ]
  },
  {
   "cell_type": "markdown",
   "metadata": {},
   "source": [
    "We pick the columns that contains the label and tweet text. The tweet data is converted to unicode string by unescaping html codes.\n",
    "\n",
    "We also map the values in the `does_this_tweet_contain_hate_speech` column with a shorter label"
   ]
  },
  {
   "cell_type": "code",
   "execution_count": 4,
   "metadata": {},
   "outputs": [
    {
     "data": {
      "text/html": [
       "<div>\n",
       "<style scoped>\n",
       "    .dataframe tbody tr th:only-of-type {\n",
       "        vertical-align: middle;\n",
       "    }\n",
       "\n",
       "    .dataframe tbody tr th {\n",
       "        vertical-align: top;\n",
       "    }\n",
       "\n",
       "    .dataframe thead th {\n",
       "        text-align: right;\n",
       "    }\n",
       "</style>\n",
       "<table border=\"1\" class=\"dataframe\">\n",
       "  <thead>\n",
       "    <tr style=\"text-align: right;\">\n",
       "      <th></th>\n",
       "      <th>contains</th>\n",
       "      <th>tweet_text</th>\n",
       "    </tr>\n",
       "  </thead>\n",
       "  <tbody>\n",
       "    <tr>\n",
       "      <th>0</th>\n",
       "      <td>offensive</td>\n",
       "      <td>Warning: penny boards will make you a faggot</td>\n",
       "    </tr>\n",
       "    <tr>\n",
       "      <th>1</th>\n",
       "      <td>hate</td>\n",
       "      <td>Fuck dykes</td>\n",
       "    </tr>\n",
       "    <tr>\n",
       "      <th>2</th>\n",
       "      <td>hate</td>\n",
       "      <td>@sizzurp__ @ILIKECATS74 @yoPapi_chulo @brandonernandez @bootyacid at least i dont look like...</td>\n",
       "    </tr>\n",
       "    <tr>\n",
       "      <th>3</th>\n",
       "      <td>hate</td>\n",
       "      <td>\"@jayswaggkillah: \"@JacklynAnnn: @jayswaggkillah Is a fag\" jackie jealous\" Neeeee</td>\n",
       "    </tr>\n",
       "    <tr>\n",
       "      <th>4</th>\n",
       "      <td>offensive</td>\n",
       "      <td>@Zhugstubble You heard me bitch but any way I'm back th texas so wtf u talking about bitch ...</td>\n",
       "    </tr>\n",
       "    <tr>\n",
       "      <th>5</th>\n",
       "      <td>hate</td>\n",
       "      <td>@elaynay your a dirty terrorist and your religion is a fucking joke, you go around screamin...</td>\n",
       "    </tr>\n",
       "    <tr>\n",
       "      <th>6</th>\n",
       "      <td>hate</td>\n",
       "      <td>RT @ivanrabago_: @_WhitePonyJr_ looking like faggots?</td>\n",
       "    </tr>\n",
       "    <tr>\n",
       "      <th>7</th>\n",
       "      <td>hate</td>\n",
       "      <td>Well I thought you knew actually RT @KingHorseDick: Man why y'all didn't tell me I was a di...</td>\n",
       "    </tr>\n",
       "    <tr>\n",
       "      <th>8</th>\n",
       "      <td>offensive</td>\n",
       "      <td>@Stonisnipezz I know. It was a joke, faggot.</td>\n",
       "    </tr>\n",
       "    <tr>\n",
       "      <th>9</th>\n",
       "      <td>offensive</td>\n",
       "      <td>I'm tired of people saying I look like my brother &amp; calling me Deondre' like serious Succ M...</td>\n",
       "    </tr>\n",
       "    <tr>\n",
       "      <th>10</th>\n",
       "      <td>hate</td>\n",
       "      <td>#VoteBlue2014 Yeah. CUZ 8 million people in faggot ass #newyork are #chickenshit JEWS&gt; FUCK...</td>\n",
       "    </tr>\n",
       "    <tr>\n",
       "      <th>11</th>\n",
       "      <td>hate</td>\n",
       "      <td>@AndreBerto word is you use roids, stupid hypocrite lying faggot.</td>\n",
       "    </tr>\n",
       "    <tr>\n",
       "      <th>12</th>\n",
       "      <td>hate</td>\n",
       "      <td>I hate faggots like you</td>\n",
       "    </tr>\n",
       "    <tr>\n",
       "      <th>13</th>\n",
       "      <td>hate</td>\n",
       "      <td>@MoriTaheripour shut up nigger whore! Hope u get raped by one of those animals. Might chang...</td>\n",
       "    </tr>\n",
       "    <tr>\n",
       "      <th>14</th>\n",
       "      <td>hate</td>\n",
       "      <td>@Oprah @3LWTV Fuck you nigger sheboon. Hope you r strung up like all niggers should be. WHI...</td>\n",
       "    </tr>\n",
       "  </tbody>\n",
       "</table>\n",
       "</div>"
      ],
      "text/plain": [
       "     contains  \\\n",
       "0   offensive   \n",
       "1        hate   \n",
       "2        hate   \n",
       "3        hate   \n",
       "4   offensive   \n",
       "5        hate   \n",
       "6        hate   \n",
       "7        hate   \n",
       "8   offensive   \n",
       "9   offensive   \n",
       "10       hate   \n",
       "11       hate   \n",
       "12       hate   \n",
       "13       hate   \n",
       "14       hate   \n",
       "\n",
       "                                                                                        tweet_text  \n",
       "0                                                     Warning: penny boards will make you a faggot  \n",
       "1                                                                                       Fuck dykes  \n",
       "2   @sizzurp__ @ILIKECATS74 @yoPapi_chulo @brandonernandez @bootyacid at least i dont look like...  \n",
       "3                \"@jayswaggkillah: \"@JacklynAnnn: @jayswaggkillah Is a fag\" jackie jealous\" Neeeee  \n",
       "4   @Zhugstubble You heard me bitch but any way I'm back th texas so wtf u talking about bitch ...  \n",
       "5   @elaynay your a dirty terrorist and your religion is a fucking joke, you go around screamin...  \n",
       "6                                            RT @ivanrabago_: @_WhitePonyJr_ looking like faggots?  \n",
       "7   Well I thought you knew actually RT @KingHorseDick: Man why y'all didn't tell me I was a di...  \n",
       "8                                                     @Stonisnipezz I know. It was a joke, faggot.  \n",
       "9   I'm tired of people saying I look like my brother & calling me Deondre' like serious Succ M...  \n",
       "10  #VoteBlue2014 Yeah. CUZ 8 million people in faggot ass #newyork are #chickenshit JEWS> FUCK...  \n",
       "11                               @AndreBerto word is you use roids, stupid hypocrite lying faggot.  \n",
       "12                                                                         I hate faggots like you  \n",
       "13  @MoriTaheripour shut up nigger whore! Hope u get raped by one of those animals. Might chang...  \n",
       "14  @Oprah @3LWTV Fuck you nigger sheboon. Hope you r strung up like all niggers should be. WHI...  "
      ]
     },
     "execution_count": 4,
     "metadata": {},
     "output_type": "execute_result"
    }
   ],
   "source": [
    "df = df_raw.loc[:,['does_this_tweet_contain_hate_speech','tweet_text']]\n",
    "df['does_this_tweet_contain_hate_speech']= df['does_this_tweet_contain_hate_speech'].map({'The tweet uses offensive language but not hate speech': 'offensive',\n",
    "                                               'The tweet contains hate speech': 'hate',\n",
    "                                               'The tweet is not offensive' : 'ok'})\n",
    "df = df.rename(columns={\"does_this_tweet_contain_hate_speech\": \"contains\"})\n",
    "df.tweet_text = df.tweet_text.apply(lambda s:  html.unescape(s))\n",
    "df.head(15)"
   ]
  },
  {
   "cell_type": "code",
   "execution_count": 5,
   "metadata": {},
   "outputs": [
    {
     "data": {
      "text/plain": [
       "ok           7274\n",
       "offensive    4836\n",
       "hate         2399\n",
       "Name: contains, dtype: int64"
      ]
     },
     "execution_count": 5,
     "metadata": {},
     "output_type": "execute_result"
    }
   ],
   "source": [
    "# make sure count is equal to the numbers mentioned in paper\n",
    "df.contains.value_counts()"
   ]
  },
  {
   "cell_type": "markdown",
   "metadata": {},
   "source": [
    "### We preprocess the tweets to lowercase them and remove all emojis, mentions and urls"
   ]
  },
  {
   "cell_type": "code",
   "execution_count": 6,
   "metadata": {},
   "outputs": [
    {
     "data": {
      "text/plain": [
       "0                                               warning: penny boards will make you a faggot\n",
       "1                                                                                 fuck dykes\n",
       "2                                              at least i dont look like jefree starr faggot\n",
       "3                                                             is a fag jackie jealous neeeee\n",
       "4     you heard me bitch but any way im back th texas so wtf u talking about bitch ass nigga\n",
       "Name: tweet_text, dtype: object"
      ]
     },
     "execution_count": 6,
     "metadata": {},
     "output_type": "execute_result"
    }
   ],
   "source": [
    "## preprocess, lowercase tweets, remove emojis and urls\n",
    "\n",
    "\n",
    "### convert to lower case\n",
    "tweet_text = df.tweet_text.str.lower()\n",
    "\n",
    "### remove urls\n",
    "tweet_text= tweet_text.str.replace('http\\S+|www.\\S+', '')\n",
    "\n",
    "### remove emoji's\n",
    "\n",
    "def filter_emoji(in_str):\n",
    "    emoji_pattern = re.compile(\"[\"\n",
    "    u\"\\U0001F600-\\U0001F64F\"  # emoticons\n",
    "    u\"\\U0001F300-\\U0001F5FF\"  # symbols & pictographs\n",
    "    u\"\\U0001F680-\\U0001F6FF\"  # transport & map symbols\n",
    "    u\"\\U0001F1E0-\\U0001F1FF\"  # flags (iOS)\n",
    "                       \"]+\", flags=re.UNICODE)\n",
    "    return emoji_pattern.sub(r'', in_str)\n",
    "\n",
    "tweet_text= tweet_text.apply(filter_emoji)\n",
    "\n",
    "## remove mentions\n",
    "tweet_text= tweet_text.str.replace('@[\\w\\-]+:?', '')\n",
    "\n",
    "## remove all non alphabets and punctuations\n",
    "#tweet_text= tweet_text.str.replace('[^a-zA-z.,!? ]+', '')\n",
    "tweet_text= tweet_text.str.replace('[\\\"\\']+', '')\n",
    "#weet_text= tweet_text.str.replace('[^a-zA-z.,!? ]+', '')\n",
    "\n",
    "\n",
    "\n",
    "X_raw = tweet_text\n",
    "\n",
    "# convert the labels to numbers\n",
    "y_raw = df.contains.map({'ok': 0, 'offensive': 1, 'hate': 2})\n",
    "y = y_raw\n",
    "\n",
    "\n",
    "tweet_text[:5]"
   ]
  },
  {
   "cell_type": "markdown",
   "metadata": {},
   "source": [
    "### We then extract the features from the tweets using various vectorizers and compare their accuracy score"
   ]
  },
  {
   "cell_type": "code",
   "execution_count": 7,
   "metadata": {},
   "outputs": [],
   "source": [
    "# extract features\n",
    "\n",
    "## use a StratifiedKFold cross validataion as stated in the paper\n",
    "cv = StratifiedKFold(n_splits=10, shuffle=True)\n",
    "stemmer = PorterStemmer()\n",
    "\n",
    "stopwords= stopwords.words(\"english\")\n",
    "other_exclusions = [\"ff\", \"rt\"]\n",
    "stopwords.extend(other_exclusions)\n",
    "\n",
    "def basic_tokenize(tweet):\n",
    "    \"\"\"Same as tokenize but without the stemming\"\"\"\n",
    "    #return [token.strip() for token in tweet.split()]\n",
    "    #tweet = \" \".join(re.split(\"[^a-zA-Z.,!?]*\", tweet.lower())).strip()\n",
    "    #tweet = \" \".join(re.split(\"[^^a-zA-Z.,!?]*\", tweet)).strip()\n",
    "    tweet = \" \".join(re.split(\"[^a-zA-Z#]+\", tweet)).strip()\n",
    "    #tweet = \" \".join(re.split(\"[ ]*\", tweet)).strip()\n",
    "    return tweet.split()\n",
    "\n",
    "def tokenize(tweet):\n",
    "    \"\"\"Removes punctuation & excess whitespace, sets to lowercase,\n",
    "    and stems tweets. Returns a list of stemmed tokens.\"\"\"\n",
    "    tokens = [stemmer.stem(t) for t in tweet.split()]\n",
    "    return tokens\n",
    "\n"
   ]
  },
  {
   "cell_type": "code",
   "execution_count": 8,
   "metadata": {},
   "outputs": [],
   "source": [
    "def get_metric(vectorizer, X_raw, y_raw, name):\n",
    "    \"\"\"Utility function to fit a classifier and report results given a vectorizer\"\"\"\n",
    "    result={'name':name} \n",
    "    y = y_raw\n",
    "    X = vectorizer.fit_transform(X_raw)\n",
    "    result['shape'] = X.shape\n",
    "\n",
    "    aucs = []\n",
    "    for train, test in cv.split(X, y):\n",
    "        classifier.fit(X[train], y[train])\n",
    "        y_preds = classifier.predict(X[test])\n",
    "        accuracy = accuracy_score(y[test], y_preds)\n",
    "        aucs.append(accuracy)\n",
    "\n",
    "    result['accuracies']  = aucs\n",
    "    result['mean_accuracy'] = np.mean(aucs)\n",
    "    #result['y_preds'] = y_preds\n",
    "    return result\n",
    "    \n",
    "    \n",
    "    \n",
    "#get_metric(vectorizer_3skipbigram, X_raw, y_raw, \"3-skip Word bigrams\")"
   ]
  },
  {
   "cell_type": "markdown",
   "metadata": {},
   "source": [
    "### Check the accuracy of various feature extraction methods as given in the paper"
   ]
  },
  {
   "cell_type": "code",
   "execution_count": 9,
   "metadata": {},
   "outputs": [],
   "source": [
    "## Majority Class Baseline\n",
    "### This is the accuracy score of test classifier that always predicts the majority class\n",
    "y_value_counts = y.value_counts()\n",
    "y_value_counts = y_value_counts.argsort()\n",
    "majority_class = y_value_counts.iloc[-1]"
   ]
  },
  {
   "cell_type": "code",
   "execution_count": 10,
   "metadata": {},
   "outputs": [
    {
     "data": {
      "text/plain": [
       "0.50134399338341717"
      ]
     },
     "execution_count": 10,
     "metadata": {},
     "output_type": "execute_result"
    }
   ],
   "source": [
    "### check accuracy score for always predicting majority class\n",
    "y_majority_class = [majority_class] * len(y)\n",
    "accuracy_score(y, y_majority_class)"
   ]
  },
  {
   "cell_type": "code",
   "execution_count": 11,
   "metadata": {},
   "outputs": [
    {
     "data": {
      "text/plain": [
       "{'accuracies': [0.76377410468319562,\n",
       "  0.77341597796143247,\n",
       "  0.778236914600551,\n",
       "  0.77203856749311295,\n",
       "  0.76912474155754651,\n",
       "  0.76361130254996556,\n",
       "  0.77655172413793105,\n",
       "  0.75172413793103443,\n",
       "  0.77310344827586208,\n",
       "  0.77225672877846796],\n",
       " 'mean_accuracy': 0.76938376479690995,\n",
       " 'name': 'Word unigrams',\n",
       " 'shape': (14509, 16989)}"
      ]
     },
     "execution_count": 11,
     "metadata": {},
     "output_type": "execute_result"
    }
   ],
   "source": [
    "## using unigrams\n",
    "\n",
    "classifier = LinearSVC(C=1)\n",
    "vectorizer_unigrams = TfidfVectorizer(\n",
    "    ngram_range=(1,1),\n",
    "    stop_words=other_exclusions,\n",
    "    tokenizer=basic_tokenize)\n",
    "\n",
    "result = get_metric(vectorizer_unigrams, X_raw, y_raw, \"Word unigrams\")\n",
    "result"
   ]
  },
  {
   "cell_type": "code",
   "execution_count": 12,
   "metadata": {},
   "outputs": [
    {
     "data": {
      "text/plain": [
       "{'accuracies': [0.72796143250688705,\n",
       "  0.72520661157024791,\n",
       "  0.73553719008264462,\n",
       "  0.73347107438016534,\n",
       "  0.73053066850447967,\n",
       "  0.73811164713990352,\n",
       "  0.72413793103448276,\n",
       "  0.72413793103448276,\n",
       "  0.73793103448275865,\n",
       "  0.75431331953071079],\n",
       " 'mean_accuracy': 0.73313388402667634,\n",
       " 'name': 'Word bigrams',\n",
       " 'shape': (14509, 84473)}"
      ]
     },
     "execution_count": 12,
     "metadata": {},
     "output_type": "execute_result"
    }
   ],
   "source": [
    "## using bigrams\n",
    "vectorizer_bigrams = TfidfVectorizer(\n",
    "    ngram_range=(2,2),\n",
    "    stop_words=other_exclusions,\n",
    "    tokenizer=basic_tokenize)\n",
    "\n",
    "result = get_metric(vectorizer_bigrams, X_raw, y_raw, \"Word bigrams\")\n",
    "result"
   ]
  },
  {
   "cell_type": "code",
   "execution_count": 13,
   "metadata": {},
   "outputs": [
    {
     "data": {
      "text/plain": [
       "{'accuracies': [0.67217630853994492,\n",
       "  0.68044077134986225,\n",
       "  0.67217630853994492,\n",
       "  0.67493112947658407,\n",
       "  0.67746381805651279,\n",
       "  0.67401791867677463,\n",
       "  0.66206896551724137,\n",
       "  0.67379310344827581,\n",
       "  0.67517241379310344,\n",
       "  0.66045548654244302],\n",
       " 'mean_accuracy': 0.67226962239406873,\n",
       " 'name': 'Word trigrams',\n",
       " 'shape': (14509, 124965)}"
      ]
     },
     "execution_count": 13,
     "metadata": {},
     "output_type": "execute_result"
    }
   ],
   "source": [
    "## using trigrams\n",
    "vectorizer_trigrams = TfidfVectorizer(\n",
    "    ngram_range=(3,3),\n",
    "    stop_words=other_exclusions,\n",
    "    tokenizer=basic_tokenize)\n",
    "\n",
    "result = get_metric(vectorizer_trigrams, X_raw, y_raw, \"Word trigrams\")\n",
    "result"
   ]
  },
  {
   "cell_type": "code",
   "execution_count": 14,
   "metadata": {},
   "outputs": [
    {
     "data": {
      "text/plain": [
       "array([[1, 1, 1, 0, 0, 0, 1, 0, 1, 0, 0],\n",
       "       [0, 0, 1, 0, 1, 0, 0, 1, 1, 0, 1],\n",
       "       [0, 0, 1, 1, 0, 1, 0, 1, 0, 1, 0]], dtype=int64)"
      ]
     },
     "execution_count": 14,
     "metadata": {},
     "output_type": "execute_result"
    }
   ],
   "source": [
    "def skipgram_tokenize(tweet, n=None, k=None, include_all=True):\n",
    "    tokens = [w for w in basic_tokenize(tweet)]\n",
    "    if include_all:\n",
    "        result = []\n",
    "        for i in range(k+1):\n",
    "            skg = [w for w in skipgrams(tokens, n, i)]\n",
    "            result = result+skg\n",
    "    else:\n",
    "        result = [w for w in skipgrams(tokens, n, k)]\n",
    "    result=set(result)\n",
    "    #print(result)\n",
    "    return result\n",
    "\n",
    "def make_skip_tokenize(n, k, include_all=True):\n",
    "    return lambda tweet: skipgram_tokenize(tweet, n=n, k=k, include_all=include_all)\n",
    "\n",
    "# test for skipgrams\n",
    "test_str=[\"test this one two\", \"test this two three\", \"test this three four\"]\n",
    "vectorizer_skipgrams = CountVectorizer(stop_words=other_exclusions,\n",
    "                                       tokenizer=make_skip_tokenize(2,1))\n",
    "X_skipgram = vectorizer_skipgrams.fit_transform(test_str)\n",
    "X_skipgram.toarray()"
   ]
  },
  {
   "cell_type": "code",
   "execution_count": 15,
   "metadata": {},
   "outputs": [
    {
     "data": {
      "text/plain": [
       "{'accuracies': [0.74862258953168048,\n",
       "  0.72658402203856753,\n",
       "  0.71349862258953167,\n",
       "  0.72796143250688705,\n",
       "  0.73673328738800825,\n",
       "  0.74638180565127499,\n",
       "  0.71172413793103451,\n",
       "  0.7358620689655172,\n",
       "  0.73862068965517247,\n",
       "  0.74327122153209113],\n",
       " 'mean_accuracy': 0.73292598777897644,\n",
       " 'name': '1-skip bigrams',\n",
       " 'shape': (14509, 165841)}"
      ]
     },
     "execution_count": 15,
     "metadata": {},
     "output_type": "execute_result"
    }
   ],
   "source": [
    "## using 1-skip bigrams\n",
    "vectorizer_1skipbigram = TfidfVectorizer(stop_words=other_exclusions,\n",
    "                                       tokenizer=make_skip_tokenize(n=2, k=1))\n",
    "    \n",
    "\n",
    "result = get_metric(vectorizer_1skipbigram, X_raw, y_raw, \"1-skip bigrams\")\n",
    "result"
   ]
  },
  {
   "cell_type": "code",
   "execution_count": 16,
   "metadata": {},
   "outputs": [
    {
     "data": {
      "text/plain": [
       "{'accuracies': [0.74380165289256195,\n",
       "  0.71900826446280997,\n",
       "  0.7341597796143251,\n",
       "  0.72314049586776863,\n",
       "  0.71674707098552726,\n",
       "  0.74017918676774641,\n",
       "  0.73379310344827586,\n",
       "  0.72689655172413792,\n",
       "  0.72758620689655173,\n",
       "  0.72877846790890266],\n",
       " 'mean_accuracy': 0.72940907805686073,\n",
       " 'name': '2-skip bigrams',\n",
       " 'shape': (14509, 236064)}"
      ]
     },
     "execution_count": 16,
     "metadata": {},
     "output_type": "execute_result"
    }
   ],
   "source": [
    "## using 2-skip bigrams\n",
    "vectorizer_2skipbigram = TfidfVectorizer(stop_words=other_exclusions,\n",
    "                                       tokenizer=make_skip_tokenize(n=2, k=2))\n",
    "    \n",
    "result = get_metric(vectorizer_2skipbigram, X_raw, y_raw, \"2-skip bigrams\")\n",
    "result"
   ]
  },
  {
   "cell_type": "code",
   "execution_count": 17,
   "metadata": {},
   "outputs": [
    {
     "data": {
      "text/plain": [
       "{'accuracies': [0.71900826446280997,\n",
       "  0.74035812672176304,\n",
       "  0.72314049586776863,\n",
       "  0.73691460055096414,\n",
       "  0.73535492763611299,\n",
       "  0.72777394900068915,\n",
       "  0.73931034482758617,\n",
       "  0.72689655172413792,\n",
       "  0.73724137931034484,\n",
       "  0.73498964803312627],\n",
       " 'mean_accuracy': 0.73209882881353028,\n",
       " 'name': '3-skip bigrams',\n",
       " 'shape': (14509, 296366)}"
      ]
     },
     "execution_count": 17,
     "metadata": {},
     "output_type": "execute_result"
    }
   ],
   "source": [
    "## using 3-skip bigrams\n",
    "vectorizer_3skipbigram = TfidfVectorizer(stop_words=other_exclusions,\n",
    "                                       tokenizer=make_skip_tokenize(n=2, k=3))\n",
    "result = get_metric(vectorizer_3skipbigram, X_raw, y_raw, \"3-skip bigrams\")\n",
    "result"
   ]
  },
  {
   "cell_type": "code",
   "execution_count": 18,
   "metadata": {},
   "outputs": [
    {
     "data": {
      "text/plain": [
       "{'accuracies': [0.75619834710743805,\n",
       "  0.74104683195592291,\n",
       "  0.72658402203856753,\n",
       "  0.71212121212121215,\n",
       "  0.73053066850447967,\n",
       "  0.7422467263955892,\n",
       "  0.72689655172413792,\n",
       "  0.73103448275862071,\n",
       "  0.716551724137931,\n",
       "  0.72946859903381644],\n",
       " 'mean_accuracy': 0.73126791657777157,\n",
       " 'name': 'character bigrams',\n",
       " 'shape': (14509, 2680)}"
      ]
     },
     "execution_count": 18,
     "metadata": {},
     "output_type": "execute_result"
    }
   ],
   "source": [
    "## character bigrams\n",
    "vectorizer_character_bigram = TfidfVectorizer(stop_words=other_exclusions,\n",
    "                                       analyzer='char',\n",
    "                                       ngram_range=(2,2))\n",
    "result = get_metric(vectorizer_character_bigram, X_raw, y_raw, \"character bigrams\")\n",
    "result"
   ]
  },
  {
   "cell_type": "code",
   "execution_count": 19,
   "metadata": {},
   "outputs": [
    {
     "data": {
      "text/plain": [
       "{'accuracies': [0.76790633608815428,\n",
       "  0.78030303030303028,\n",
       "  0.77892561983471076,\n",
       "  0.75413223140495866,\n",
       "  0.76154376292212267,\n",
       "  0.76016540317022741,\n",
       "  0.76827586206896548,\n",
       "  0.75241379310344825,\n",
       "  0.76206896551724135,\n",
       "  0.76259489302967565],\n",
       " 'mean_accuracy': 0.76483298974425351,\n",
       " 'name': 'character trigrams',\n",
       " 'shape': (14509, 18186)}"
      ]
     },
     "execution_count": 19,
     "metadata": {},
     "output_type": "execute_result"
    }
   ],
   "source": [
    "## character trigrams\n",
    "vectorizer_character_trigram = TfidfVectorizer(stop_words=other_exclusions,\n",
    "                                       analyzer='char',\n",
    "                                       ngram_range=(3,3))\n",
    "result = get_metric(vectorizer_character_trigram, X_raw, y_raw, \"character trigrams\")\n",
    "result"
   ]
  },
  {
   "cell_type": "code",
   "execution_count": 20,
   "metadata": {},
   "outputs": [
    {
     "data": {
      "text/plain": [
       "{'accuracies': [0.76239669421487599,\n",
       "  0.76239669421487599,\n",
       "  0.78030303030303028,\n",
       "  0.76170798898071623,\n",
       "  0.77601654031702272,\n",
       "  0.76085458304617504,\n",
       "  0.76551724137931032,\n",
       "  0.77655172413793105,\n",
       "  0.76827586206896548,\n",
       "  0.76535541752933056],\n",
       " 'mean_accuracy': 0.76793757761922343,\n",
       " 'name': 'character 4-grams',\n",
       " 'shape': (14509, 63099)}"
      ]
     },
     "execution_count": 20,
     "metadata": {},
     "output_type": "execute_result"
    }
   ],
   "source": [
    "## character 4-grams\n",
    "vectorizer_character_4gram = TfidfVectorizer(stop_words=other_exclusions,\n",
    "                                       analyzer='char',\n",
    "                                       ngram_range=(4,4))\n",
    "result = get_metric(vectorizer_character_4gram, X_raw, y_raw, \"character 4-grams\")\n",
    "result"
   ]
  },
  {
   "cell_type": "code",
   "execution_count": 21,
   "metadata": {},
   "outputs": [
    {
     "data": {
      "text/plain": [
       "{'accuracies': [0.76308539944903586,\n",
       "  0.75482093663911842,\n",
       "  0.77685950413223137,\n",
       "  0.76790633608815428,\n",
       "  0.76843556168159888,\n",
       "  0.7622329427980703,\n",
       "  0.75931034482758619,\n",
       "  0.76137931034482753,\n",
       "  0.77103448275862074,\n",
       "  0.76811594202898548],\n",
       " 'mean_accuracy': 0.76531807607482283,\n",
       " 'name': 'character 5-grams',\n",
       " 'shape': (14509, 146368)}"
      ]
     },
     "execution_count": 21,
     "metadata": {},
     "output_type": "execute_result"
    }
   ],
   "source": [
    "## character 5-grams\n",
    "vectorizer_character_5gram = TfidfVectorizer(stop_words=other_exclusions,\n",
    "                                       analyzer='char',\n",
    "                                       ngram_range=(5,5))\n",
    "result = get_metric(vectorizer_character_5gram, X_raw, y_raw, \"character 5-grams\")\n",
    "result"
   ]
  },
  {
   "cell_type": "code",
   "execution_count": 22,
   "metadata": {},
   "outputs": [
    {
     "data": {
      "text/plain": [
       "{'accuracies': [0.75619834710743805,\n",
       "  0.75619834710743805,\n",
       "  0.76721763085399453,\n",
       "  0.76446280991735538,\n",
       "  0.7643004824259132,\n",
       "  0.74776016540317025,\n",
       "  0.7641379310344828,\n",
       "  0.75655172413793104,\n",
       "  0.76551724137931032,\n",
       "  0.75431331953071079],\n",
       " 'mean_accuracy': 0.75966579988977445,\n",
       " 'name': 'character 6-grams',\n",
       " 'shape': (14509, 255630)}"
      ]
     },
     "execution_count": 22,
     "metadata": {},
     "output_type": "execute_result"
    }
   ],
   "source": [
    "## character 6-grams\n",
    "vectorizer_character_6gram = TfidfVectorizer(stop_words=other_exclusions,\n",
    "                                       analyzer='char',\n",
    "                                       ngram_range=(6,6))\n",
    "result = get_metric(vectorizer_character_6gram, X_raw, y_raw, \"character 6-grams\")\n",
    "result"
   ]
  },
  {
   "cell_type": "code",
   "execution_count": 23,
   "metadata": {},
   "outputs": [
    {
     "data": {
      "text/plain": [
       "{'accuracies': [0.75757575757575757,\n",
       "  0.75895316804407709,\n",
       "  0.75757575757575757,\n",
       "  0.76033057851239672,\n",
       "  0.74844934527911788,\n",
       "  0.74293590627153683,\n",
       "  0.75172413793103443,\n",
       "  0.75310344827586206,\n",
       "  0.76275862068965516,\n",
       "  0.74120082815734989],\n",
       " 'mean_accuracy': 0.75346075483125452,\n",
       " 'name': 'character 7-grams',\n",
       " 'shape': (14509, 365901)}"
      ]
     },
     "execution_count": 23,
     "metadata": {},
     "output_type": "execute_result"
    }
   ],
   "source": [
    "## character 7-grams\n",
    "vectorizer_character_7gram = TfidfVectorizer(stop_words=other_exclusions,\n",
    "                                       analyzer='char',\n",
    "                                       ngram_range=(7,7))\n",
    "\n",
    "result = get_metric(vectorizer_character_7gram, X_raw, y_raw, \"character 7-grams\")\n",
    "result"
   ]
  },
  {
   "cell_type": "code",
   "execution_count": 24,
   "metadata": {},
   "outputs": [
    {
     "data": {
      "text/plain": [
       "{'accuracies': [0.73278236914600547,\n",
       "  0.74242424242424243,\n",
       "  0.74104683195592291,\n",
       "  0.75137741046831952,\n",
       "  0.73190902825637494,\n",
       "  0.75051688490696067,\n",
       "  0.73448275862068968,\n",
       "  0.7448275862068966,\n",
       "  0.73034482758620689,\n",
       "  0.74948240165631475],\n",
       " 'mean_accuracy': 0.74091943412279337,\n",
       " 'name': 'character 8-grams',\n",
       " 'shape': (14509, 466688)}"
      ]
     },
     "execution_count": 24,
     "metadata": {},
     "output_type": "execute_result"
    }
   ],
   "source": [
    "## character 8-grams\n",
    "vectorizer_character_8gram = TfidfVectorizer(stop_words=other_exclusions,\n",
    "                                       analyzer='char',\n",
    "                                       ngram_range=(8,8))\n",
    "result = get_metric(vectorizer_character_8gram, X_raw, y_raw, \"character 8-grams\")\n",
    "result"
   ]
  },
  {
   "cell_type": "code",
   "execution_count": 25,
   "metadata": {},
   "outputs": [],
   "source": [
    "def get_metric_oracle(X_raw, y_raw, vectorizers):\n",
    "    results = {\"oracle\":{}}\n",
    "    for train, test in cv.split(X_raw, y_raw):\n",
    "        y_train = y_raw[train]\n",
    "        X_train = X_raw[train]\n",
    "        \n",
    "        y_test = y_raw[test]\n",
    "        X_test = X_raw[test]\n",
    "        \n",
    "        y_pred_oracle = []\n",
    "        for name in vectorizers:\n",
    "            vectorizer = vectorizers[name]\n",
    "            ## initialize result dict\n",
    "            if name in results:\n",
    "                result = results[name]\n",
    "            else:\n",
    "                result = {}\n",
    "                results[name] = result\n",
    "                \n",
    "         \n",
    "            \n",
    "            X_train_tr = vectorizer.fit_transform(X_train)\n",
    "            \n",
    "            if not \"shape\" in result:\n",
    "                result[\"shape\"] = []\n",
    "            result['shape'].append(X_train_tr.shape)\n",
    "            \n",
    "            classifier.fit(X_train_tr, y_train)\n",
    "            \n",
    "            X_test_tr = vectorizer.transform(X_test)\n",
    "            \n",
    "            y_preds = classifier.predict(X_test_tr)\n",
    "            accuracy = accuracy_score(y_test, y_preds)\n",
    "            \n",
    "            if not \"accuracies\" in result:\n",
    "                result[\"accuracies\"] = []           \n",
    "            \n",
    "            result['accuracies'].append(accuracy)\n",
    "            \n",
    "            if not \"y_preds\" in result:\n",
    "                result[\"y_preds\"] = []\n",
    "                \n",
    "            result['y_preds'].append(y_preds)   \n",
    "            \n",
    "            y_pred_oracle.append(y_preds)\n",
    "            \n",
    "        y_pred_oracle = np.matrix(y_pred_oracle).T\n",
    "        oracle_correct_pred = 0\n",
    "        oracle_incorrect_index = []\n",
    "        for i, yt in enumerate(y_test):\n",
    "            if True in  (y_pred_oracle[i,:] == yt):\n",
    "                 oracle_correct_pred += 1\n",
    "            else:\n",
    "                oracle_incorrect_index.append(test[i])\n",
    "                \n",
    "        accuracy = oracle_correct_pred/len(y_test)\n",
    "        print(\"Oracle classifier accuracy={}\".format(accuracy))\n",
    "        result = results[\"oracle\"]\n",
    "    \n",
    "        if not \"accuracies\" in result:\n",
    "            result[\"accuracies\"] = []           \n",
    "            \n",
    "        result['accuracies'].append(accuracy)\n",
    "        \n",
    "        if not \"oracle_incorrect_index\" in result:\n",
    "            result[\"oracle_incorrect_index\"] = []  \n",
    "            \n",
    "        result['oracle_incorrect_index'] = oracle_incorrect_index\n",
    "    return results\n",
    "    "
   ]
  },
  {
   "cell_type": "code",
   "execution_count": 26,
   "metadata": {},
   "outputs": [
    {
     "name": "stdout",
     "output_type": "stream",
     "text": [
      "Oracle classifier accuracy=0.8877410468319559\n",
      "Oracle classifier accuracy=0.8911845730027548\n",
      "Oracle classifier accuracy=0.8787878787878788\n",
      "Oracle classifier accuracy=0.8870523415977961\n",
      "Oracle classifier accuracy=0.8869745003445899\n",
      "Oracle classifier accuracy=0.8807718814610613\n",
      "Oracle classifier accuracy=0.8882758620689655\n",
      "Oracle classifier accuracy=0.8875862068965518\n",
      "Oracle classifier accuracy=0.8855172413793103\n",
      "Oracle classifier accuracy=0.8978605935127675\n"
     ]
    },
    {
     "data": {
      "text/plain": [
       "{'oracle': {'accuracies': [0.8877410468319559,\n",
       "   0.8911845730027548,\n",
       "   0.8787878787878788,\n",
       "   0.8870523415977961,\n",
       "   0.8869745003445899,\n",
       "   0.8807718814610613,\n",
       "   0.8882758620689655,\n",
       "   0.8875862068965518,\n",
       "   0.8855172413793103,\n",
       "   0.8978605935127675],\n",
       "  'oracle_incorrect_index': [117,\n",
       "   224,\n",
       "   394,\n",
       "   538,\n",
       "   597,\n",
       "   721,\n",
       "   912,\n",
       "   943,\n",
       "   967,\n",
       "   1030,\n",
       "   1086,\n",
       "   1201,\n",
       "   1468,\n",
       "   1626,\n",
       "   1761,\n",
       "   1769,\n",
       "   1981,\n",
       "   1988,\n",
       "   2005,\n",
       "   2011,\n",
       "   2090,\n",
       "   2092,\n",
       "   2477,\n",
       "   2485,\n",
       "   2491,\n",
       "   2517,\n",
       "   2533,\n",
       "   2653,\n",
       "   2711,\n",
       "   3020,\n",
       "   3032,\n",
       "   3218,\n",
       "   3347,\n",
       "   3390,\n",
       "   3465,\n",
       "   3488,\n",
       "   3744,\n",
       "   3870,\n",
       "   4023,\n",
       "   4090,\n",
       "   4124,\n",
       "   4148,\n",
       "   4202,\n",
       "   4257,\n",
       "   4283,\n",
       "   4414,\n",
       "   4529,\n",
       "   4621,\n",
       "   4705,\n",
       "   4719,\n",
       "   4807,\n",
       "   4890,\n",
       "   4891,\n",
       "   4960,\n",
       "   5083,\n",
       "   5287,\n",
       "   5423,\n",
       "   5632,\n",
       "   5748,\n",
       "   5795,\n",
       "   5935,\n",
       "   5938,\n",
       "   6050,\n",
       "   6087,\n",
       "   6252,\n",
       "   6544,\n",
       "   6572,\n",
       "   6756,\n",
       "   6764,\n",
       "   6796,\n",
       "   6890,\n",
       "   6918,\n",
       "   6961,\n",
       "   6965,\n",
       "   6968,\n",
       "   6971,\n",
       "   7093,\n",
       "   7131,\n",
       "   7238,\n",
       "   7512,\n",
       "   7516,\n",
       "   7630,\n",
       "   7664,\n",
       "   7767,\n",
       "   7826,\n",
       "   8106,\n",
       "   8130,\n",
       "   8170,\n",
       "   8347,\n",
       "   8420,\n",
       "   8427,\n",
       "   8582,\n",
       "   8759,\n",
       "   9412,\n",
       "   9463,\n",
       "   9472,\n",
       "   9755,\n",
       "   9772,\n",
       "   9790,\n",
       "   9842,\n",
       "   9868,\n",
       "   9895,\n",
       "   9919,\n",
       "   9985,\n",
       "   10018,\n",
       "   10032,\n",
       "   10091,\n",
       "   10120,\n",
       "   10221,\n",
       "   10354,\n",
       "   10531,\n",
       "   10655,\n",
       "   10752,\n",
       "   10783,\n",
       "   10853,\n",
       "   11019,\n",
       "   11051,\n",
       "   11328,\n",
       "   11375,\n",
       "   11526,\n",
       "   11549,\n",
       "   11572,\n",
       "   11676,\n",
       "   11782,\n",
       "   11872,\n",
       "   12217,\n",
       "   12273,\n",
       "   12595,\n",
       "   12721,\n",
       "   12809,\n",
       "   12888,\n",
       "   12894,\n",
       "   13108,\n",
       "   13375,\n",
       "   13388,\n",
       "   13667,\n",
       "   13856,\n",
       "   13857,\n",
       "   13887,\n",
       "   13951,\n",
       "   13957,\n",
       "   14012,\n",
       "   14019,\n",
       "   14041,\n",
       "   14095,\n",
       "   14121,\n",
       "   14266,\n",
       "   14490]},\n",
       " 'vectorizer_1skipbigram': {'accuracies': [0.74724517906336085,\n",
       "   0.75,\n",
       "   0.75,\n",
       "   0.76239669421487599,\n",
       "   0.74362508614748446,\n",
       "   0.74155754651964167,\n",
       "   0.75103448275862073,\n",
       "   0.75103448275862073,\n",
       "   0.74758620689655175,\n",
       "   0.76673567977915802],\n",
       "  'shape': [(13057, 153415),\n",
       "   (13057, 152912),\n",
       "   (13057, 153076),\n",
       "   (13057, 152846),\n",
       "   (13058, 152551),\n",
       "   (13058, 152667),\n",
       "   (13059, 152915),\n",
       "   (13059, 152419),\n",
       "   (13059, 152993),\n",
       "   (13060, 153063)],\n",
       "  'y_preds': [array([0, 0, 0, ..., 0, 0, 2]),\n",
       "   array([1, 0, 0, ..., 0, 0, 0]),\n",
       "   array([1, 0, 0, ..., 0, 0, 0]),\n",
       "   array([0, 0, 0, ..., 0, 0, 0]),\n",
       "   array([0, 0, 2, ..., 0, 0, 0]),\n",
       "   array([0, 0, 0, ..., 0, 0, 0]),\n",
       "   array([0, 1, 1, ..., 0, 0, 0]),\n",
       "   array([0, 2, 1, ..., 0, 0, 0]),\n",
       "   array([1, 1, 1, ..., 0, 0, 1]),\n",
       "   array([1, 2, 1, ..., 0, 0, 0])]},\n",
       " 'vectorizer_2skipbigram': {'accuracies': [0.75,\n",
       "   0.75206611570247939,\n",
       "   0.74586776859504134,\n",
       "   0.76239669421487599,\n",
       "   0.74913852515506552,\n",
       "   0.74086836664369404,\n",
       "   0.7551724137931034,\n",
       "   0.75034482758620691,\n",
       "   0.74137931034482762,\n",
       "   0.76328502415458932],\n",
       "  'shape': [(13057, 218463),\n",
       "   (13057, 217723),\n",
       "   (13057, 217931),\n",
       "   (13057, 217529),\n",
       "   (13058, 217317),\n",
       "   (13058, 217257),\n",
       "   (13059, 217825),\n",
       "   (13059, 217097),\n",
       "   (13059, 217911),\n",
       "   (13060, 217890)],\n",
       "  'y_preds': [array([0, 0, 0, ..., 0, 0, 0]),\n",
       "   array([1, 0, 0, ..., 0, 0, 0]),\n",
       "   array([0, 0, 0, ..., 0, 0, 0]),\n",
       "   array([0, 0, 0, ..., 0, 0, 0]),\n",
       "   array([0, 0, 2, ..., 0, 0, 0]),\n",
       "   array([0, 0, 0, ..., 1, 0, 0]),\n",
       "   array([1, 1, 1, ..., 0, 0, 0]),\n",
       "   array([0, 2, 1, ..., 0, 0, 0]),\n",
       "   array([2, 1, 1, ..., 0, 0, 1]),\n",
       "   array([1, 2, 1, ..., 0, 0, 0])]},\n",
       " 'vectorizer_3skipbigram': {'accuracies': [0.75413223140495866,\n",
       "   0.75068870523415976,\n",
       "   0.74793388429752061,\n",
       "   0.75895316804407709,\n",
       "   0.74569262577532736,\n",
       "   0.73880082701585115,\n",
       "   0.75034482758620691,\n",
       "   0.75241379310344825,\n",
       "   0.74068965517241381,\n",
       "   0.76604554865424435],\n",
       "  'shape': [(13057, 274379),\n",
       "   (13057, 273429),\n",
       "   (13057, 273704),\n",
       "   (13057, 273215),\n",
       "   (13058, 272952),\n",
       "   (13058, 272758),\n",
       "   (13059, 273490),\n",
       "   (13059, 272543),\n",
       "   (13059, 273688),\n",
       "   (13060, 273594)],\n",
       "  'y_preds': [array([0, 0, 0, ..., 0, 0, 0]),\n",
       "   array([1, 1, 0, ..., 0, 0, 0]),\n",
       "   array([0, 0, 0, ..., 0, 0, 0]),\n",
       "   array([0, 0, 0, ..., 0, 0, 0]),\n",
       "   array([0, 0, 2, ..., 0, 0, 0]),\n",
       "   array([0, 0, 0, ..., 0, 0, 0]),\n",
       "   array([1, 1, 1, ..., 0, 0, 0]),\n",
       "   array([0, 2, 1, ..., 0, 0, 0]),\n",
       "   array([2, 1, 1, ..., 0, 0, 0]),\n",
       "   array([1, 2, 1, ..., 0, 0, 0])]},\n",
       " 'vectorizer_bigrams': {'accuracies': [0.74035812672176304,\n",
       "   0.74173553719008267,\n",
       "   0.74931129476584024,\n",
       "   0.75206611570247939,\n",
       "   0.74500344589937972,\n",
       "   0.72846312887663678,\n",
       "   0.73931034482758617,\n",
       "   0.72965517241379307,\n",
       "   0.73793103448275865,\n",
       "   0.75914423740510695],\n",
       "  'shape': [(13057, 78116),\n",
       "   (13057, 77878),\n",
       "   (13057, 77940),\n",
       "   (13057, 77855),\n",
       "   (13058, 77662),\n",
       "   (13058, 77734),\n",
       "   (13059, 77856),\n",
       "   (13059, 77655),\n",
       "   (13059, 77876),\n",
       "   (13060, 77927)],\n",
       "  'y_preds': [array([0, 0, 0, ..., 0, 1, 2]),\n",
       "   array([1, 0, 0, ..., 0, 0, 0]),\n",
       "   array([1, 0, 1, ..., 1, 0, 0]),\n",
       "   array([0, 0, 0, ..., 0, 0, 0]),\n",
       "   array([0, 0, 2, ..., 0, 0, 0]),\n",
       "   array([0, 0, 0, ..., 1, 0, 0]),\n",
       "   array([0, 2, 1, ..., 0, 1, 0]),\n",
       "   array([0, 2, 1, ..., 1, 0, 0]),\n",
       "   array([0, 1, 1, ..., 0, 0, 0]),\n",
       "   array([2, 2, 1, ..., 0, 0, 0])]},\n",
       " 'vectorizer_character_6gram': {'accuracies': [0.778236914600551,\n",
       "   0.75688705234159781,\n",
       "   0.76033057851239672,\n",
       "   0.77548209366391185,\n",
       "   0.76292212267401793,\n",
       "   0.76567884217780846,\n",
       "   0.7737931034482759,\n",
       "   0.7648275862068965,\n",
       "   0.75793103448275867,\n",
       "   0.79227053140096615],\n",
       "  'shape': [(13057, 60235),\n",
       "   (13057, 60060),\n",
       "   (13057, 60147),\n",
       "   (13057, 60185),\n",
       "   (13058, 60085),\n",
       "   (13058, 60251),\n",
       "   (13059, 60228),\n",
       "   (13059, 59961),\n",
       "   (13059, 60107),\n",
       "   (13060, 60196)],\n",
       "  'y_preds': [array([0, 0, 0, ..., 0, 0, 0]),\n",
       "   array([1, 1, 0, ..., 0, 0, 0]),\n",
       "   array([1, 2, 0, ..., 0, 0, 0]),\n",
       "   array([0, 0, 0, ..., 1, 0, 0]),\n",
       "   array([1, 2, 2, ..., 0, 0, 0]),\n",
       "   array([1, 0, 0, ..., 0, 0, 0]),\n",
       "   array([2, 1, 2, ..., 0, 1, 0]),\n",
       "   array([0, 2, 1, ..., 0, 0, 1]),\n",
       "   array([1, 1, 1, ..., 0, 0, 0]),\n",
       "   array([1, 2, 0, ..., 0, 0, 0])]},\n",
       " 'vectorizer_character_7gram': {'accuracies': [0.76308539944903586,\n",
       "   0.76790633608815428,\n",
       "   0.76790633608815428,\n",
       "   0.76790633608815428,\n",
       "   0.75947622329427977,\n",
       "   0.76292212267401793,\n",
       "   0.75931034482758619,\n",
       "   0.75793103448275867,\n",
       "   0.74275862068965515,\n",
       "   0.77777777777777779],\n",
       "  'shape': [(13057, 340943),\n",
       "   (13057, 340036),\n",
       "   (13057, 340645),\n",
       "   (13057, 340292),\n",
       "   (13058, 339397),\n",
       "   (13058, 339935),\n",
       "   (13059, 340230),\n",
       "   (13059, 339168),\n",
       "   (13059, 340231),\n",
       "   (13060, 340557)],\n",
       "  'y_preds': [array([0, 0, 0, ..., 0, 0, 0]),\n",
       "   array([1, 0, 0, ..., 0, 0, 0]),\n",
       "   array([1, 0, 0, ..., 0, 0, 0]),\n",
       "   array([0, 0, 0, ..., 0, 0, 0]),\n",
       "   array([2, 0, 2, ..., 0, 0, 0]),\n",
       "   array([0, 0, 0, ..., 0, 0, 0]),\n",
       "   array([1, 1, 1, ..., 0, 0, 0]),\n",
       "   array([0, 2, 1, ..., 0, 0, 0]),\n",
       "   array([1, 1, 1, ..., 0, 0, 0]),\n",
       "   array([2, 2, 1, ..., 0, 0, 0])]},\n",
       " 'vectorizer_character_8gram': {'accuracies': [0.76033057851239672,\n",
       "   0.76515151515151514,\n",
       "   0.75826446280991733,\n",
       "   0.76170798898071623,\n",
       "   0.75603032391454172,\n",
       "   0.74844934527911788,\n",
       "   0.76000000000000001,\n",
       "   0.75103448275862073,\n",
       "   0.73862068965517247,\n",
       "   0.77225672877846796],\n",
       "  'shape': [(13057, 432524),\n",
       "   (13057, 431254),\n",
       "   (13057, 431955),\n",
       "   (13057, 431436),\n",
       "   (13058, 430341),\n",
       "   (13058, 431105),\n",
       "   (13059, 431423),\n",
       "   (13059, 430204),\n",
       "   (13059, 431432),\n",
       "   (13060, 431843)],\n",
       "  'y_preds': [array([0, 0, 0, ..., 0, 0, 0]),\n",
       "   array([1, 0, 0, ..., 0, 0, 0]),\n",
       "   array([0, 0, 0, ..., 0, 0, 0]),\n",
       "   array([0, 0, 0, ..., 0, 0, 0]),\n",
       "   array([2, 0, 2, ..., 0, 0, 0]),\n",
       "   array([0, 0, 0, ..., 0, 0, 0]),\n",
       "   array([1, 1, 1, ..., 0, 0, 0]),\n",
       "   array([0, 2, 1, ..., 0, 0, 0]),\n",
       "   array([0, 1, 1, ..., 0, 0, 0]),\n",
       "   array([1, 2, 1, ..., 0, 0, 0])]},\n",
       " 'vectorizer_trigrams': {'accuracies': [0.69421487603305787,\n",
       "   0.68044077134986225,\n",
       "   0.70041322314049592,\n",
       "   0.69490358126721763,\n",
       "   0.68711233631977942,\n",
       "   0.68022053756030321,\n",
       "   0.68620689655172418,\n",
       "   0.69655172413793098,\n",
       "   0.68137931034482757,\n",
       "   0.70807453416149069],\n",
       "  'shape': [(13057, 114312),\n",
       "   (13057, 113906),\n",
       "   (13057, 114014),\n",
       "   (13057, 113831),\n",
       "   (13058, 113747),\n",
       "   (13058, 113798),\n",
       "   (13059, 114034),\n",
       "   (13059, 113681),\n",
       "   (13059, 114069),\n",
       "   (13060, 114034)],\n",
       "  'y_preds': [array([0, 0, 0, ..., 0, 1, 0]),\n",
       "   array([1, 0, 0, ..., 0, 0, 0]),\n",
       "   array([0, 0, 0, ..., 1, 0, 0]),\n",
       "   array([0, 0, 0, ..., 0, 0, 0]),\n",
       "   array([0, 0, 2, ..., 0, 0, 1]),\n",
       "   array([0, 0, 0, ..., 0, 0, 0]),\n",
       "   array([0, 1, 1, ..., 0, 0, 0]),\n",
       "   array([0, 2, 1, ..., 0, 0, 0]),\n",
       "   array([0, 1, 1, ..., 0, 0, 0]),\n",
       "   array([1, 1, 1, ..., 0, 0, 0])]},\n",
       " 'vectorizer_unigrams': {'accuracies': [0.78236914600550966,\n",
       "   0.76033057851239672,\n",
       "   0.74931129476584024,\n",
       "   0.78099173553719003,\n",
       "   0.77188146106133704,\n",
       "   0.76567884217780846,\n",
       "   0.77517241379310342,\n",
       "   0.76689655172413795,\n",
       "   0.76275862068965516,\n",
       "   0.77777777777777779],\n",
       "  'shape': [(13057, 16072),\n",
       "   (13057, 16048),\n",
       "   (13057, 16014),\n",
       "   (13057, 16008),\n",
       "   (13058, 15958),\n",
       "   (13058, 16045),\n",
       "   (13059, 15966),\n",
       "   (13059, 15947),\n",
       "   (13059, 16031),\n",
       "   (13060, 15991)],\n",
       "  'y_preds': [array([2, 0, 1, ..., 2, 0, 0]),\n",
       "   array([1, 1, 0, ..., 0, 0, 0]),\n",
       "   array([1, 2, 0, ..., 0, 0, 0]),\n",
       "   array([0, 0, 0, ..., 2, 0, 0]),\n",
       "   array([2, 2, 2, ..., 1, 0, 0]),\n",
       "   array([1, 0, 0, ..., 0, 0, 0]),\n",
       "   array([1, 1, 2, ..., 0, 1, 0]),\n",
       "   array([1, 2, 1, ..., 0, 0, 0]),\n",
       "   array([2, 0, 1, ..., 0, 0, 0]),\n",
       "   array([1, 2, 1, ..., 0, 0, 0])]}}"
      ]
     },
     "execution_count": 26,
     "metadata": {},
     "output_type": "execute_result"
    }
   ],
   "source": [
    "vectorizers = {\"vectorizer_character_8gram\":vectorizer_character_8gram,\n",
    "              \"vectorizer_character_7gram\":vectorizer_character_7gram,\n",
    "              \"vectorizer_character_6gram\":vectorizer_character_6gram,\n",
    "              \"vectorizer_character_6gram\":vectorizer_character_5gram,\n",
    "              \"vectorizer_character_6gram\":vectorizer_character_4gram,\n",
    "              \"vectorizer_1skipbigram\": vectorizer_1skipbigram,\n",
    "              \"vectorizer_2skipbigram\": vectorizer_2skipbigram,\n",
    "              \"vectorizer_3skipbigram\": vectorizer_3skipbigram,\n",
    "              \"vectorizer_unigrams\": vectorizer_unigrams,\n",
    "              \"vectorizer_bigrams\": vectorizer_bigrams,\n",
    "              \"vectorizer_trigrams\": vectorizer_trigrams}\n",
    "               \n",
    "                 \n",
    "results = get_metric_oracle(X_raw, y_raw, vectorizers)\n",
    "results"
   ]
  },
  {
   "cell_type": "code",
   "execution_count": 27,
   "metadata": {},
   "outputs": [],
   "source": [
    "with open('results.pickle', 'wb') as handle:\n",
    "    pickle.dump(results, handle, protocol=pickle.HIGHEST_PROTOCOL)\n"
   ]
  },
  {
   "cell_type": "code",
   "execution_count": 28,
   "metadata": {},
   "outputs": [],
   "source": [
    "with open('results.pickle', 'rb') as handle:\n",
    "    result_read = pickle.load(handle)\n"
   ]
  },
  {
   "cell_type": "code",
   "execution_count": 29,
   "metadata": {},
   "outputs": [
    {
     "name": "stdout",
     "output_type": "stream",
     "text": [
      "148\n"
     ]
    }
   ],
   "source": [
    "incorrect_indexes = sorted(set(result_read[\"oracle\"][\"oracle_incorrect_index\"]))\n",
    "print(len(incorrect_indexes))"
   ]
  },
  {
   "cell_type": "code",
   "execution_count": 30,
   "metadata": {},
   "outputs": [
    {
     "data": {
      "text/html": [
       "<div>\n",
       "<style scoped>\n",
       "    .dataframe tbody tr th:only-of-type {\n",
       "        vertical-align: middle;\n",
       "    }\n",
       "\n",
       "    .dataframe tbody tr th {\n",
       "        vertical-align: top;\n",
       "    }\n",
       "\n",
       "    .dataframe thead th {\n",
       "        text-align: right;\n",
       "    }\n",
       "</style>\n",
       "<table border=\"1\" class=\"dataframe\">\n",
       "  <thead>\n",
       "    <tr style=\"text-align: right;\">\n",
       "      <th></th>\n",
       "      <th>tweet</th>\n",
       "      <th>label</th>\n",
       "    </tr>\n",
       "  </thead>\n",
       "  <tbody>\n",
       "    <tr>\n",
       "      <th>117</th>\n",
       "      <td>depends how we define race? i still dont know what the fuck race means. for instance, not ...</td>\n",
       "      <td>1</td>\n",
       "    </tr>\n",
       "    <tr>\n",
       "      <th>224</th>\n",
       "      <td>leak: 12 isis terrorists vetted &amp; let into america - screening process not good enough!</td>\n",
       "      <td>2</td>\n",
       "    </tr>\n",
       "    <tr>\n",
       "      <th>394</th>\n",
       "      <td>houseniggas  these hollywood token blacks must just do us all a favour and stfu. all they s...</td>\n",
       "      <td>0</td>\n",
       "    </tr>\n",
       "    <tr>\n",
       "      <th>538</th>\n",
       "      <td>set apart chink nigh usage underfloor electric heat devices else wall up encourager circus:...</td>\n",
       "      <td>1</td>\n",
       "    </tr>\n",
       "    <tr>\n",
       "      <th>597</th>\n",
       "      <td>got tired of niggas fuckin my shit up i had to come fuck wit da chinks $8 i dont care what ...</td>\n",
       "      <td>2</td>\n",
       "    </tr>\n",
       "  </tbody>\n",
       "</table>\n",
       "</div>"
      ],
      "text/plain": [
       "                                                                                              tweet  \\\n",
       "117   depends how we define race? i still dont know what the fuck race means. for instance, not ...   \n",
       "224        leak: 12 isis terrorists vetted & let into america - screening process not good enough!    \n",
       "394  houseniggas  these hollywood token blacks must just do us all a favour and stfu. all they s...   \n",
       "538  set apart chink nigh usage underfloor electric heat devices else wall up encourager circus:...   \n",
       "597  got tired of niggas fuckin my shit up i had to come fuck wit da chinks $8 i dont care what ...   \n",
       "\n",
       "     label  \n",
       "117      1  \n",
       "224      2  \n",
       "394      0  \n",
       "538      1  \n",
       "597      2  "
      ]
     },
     "execution_count": 30,
     "metadata": {},
     "output_type": "execute_result"
    }
   ],
   "source": [
    "X_incorrect = X_raw[incorrect_indexes]\n",
    "y_incorrect = y_raw[incorrect_indexes]\n",
    "incorrect_classified = pd.DataFrame()\n",
    "incorrect_classified[\"tweet\"] = X_incorrect\n",
    "incorrect_classified[\"label\"] = y_incorrect\n",
    "incorrect_classified.head()"
   ]
  },
  {
   "cell_type": "code",
   "execution_count": 31,
   "metadata": {},
   "outputs": [
    {
     "data": {
      "text/plain": [
       "2    90\n",
       "1    50\n",
       "0     8\n",
       "Name: label, dtype: int64"
      ]
     },
     "execution_count": 31,
     "metadata": {},
     "output_type": "execute_result"
    }
   ],
   "source": [
    "incorrect_classified.label.value_counts()"
   ]
  },
  {
   "cell_type": "code",
   "execution_count": 32,
   "metadata": {},
   "outputs": [
    {
     "data": {
      "text/html": [
       "<div>\n",
       "<style scoped>\n",
       "    .dataframe tbody tr th:only-of-type {\n",
       "        vertical-align: middle;\n",
       "    }\n",
       "\n",
       "    .dataframe tbody tr th {\n",
       "        vertical-align: top;\n",
       "    }\n",
       "\n",
       "    .dataframe thead th {\n",
       "        text-align: right;\n",
       "    }\n",
       "</style>\n",
       "<table border=\"1\" class=\"dataframe\">\n",
       "  <thead>\n",
       "    <tr style=\"text-align: right;\">\n",
       "      <th></th>\n",
       "      <th>accuracy</th>\n",
       "      <th>name</th>\n",
       "    </tr>\n",
       "  </thead>\n",
       "  <tbody>\n",
       "    <tr>\n",
       "      <th>0</th>\n",
       "      <td>0.887</td>\n",
       "      <td>oracle</td>\n",
       "    </tr>\n",
       "    <tr>\n",
       "      <th>1</th>\n",
       "      <td>0.757</td>\n",
       "      <td>vectorizer_character_8gram</td>\n",
       "    </tr>\n",
       "    <tr>\n",
       "      <th>2</th>\n",
       "      <td>0.763</td>\n",
       "      <td>vectorizer_character_7gram</td>\n",
       "    </tr>\n",
       "    <tr>\n",
       "      <th>3</th>\n",
       "      <td>0.769</td>\n",
       "      <td>vectorizer_character_6gram</td>\n",
       "    </tr>\n",
       "    <tr>\n",
       "      <th>4</th>\n",
       "      <td>0.751</td>\n",
       "      <td>vectorizer_1skipbigram</td>\n",
       "    </tr>\n",
       "    <tr>\n",
       "      <th>5</th>\n",
       "      <td>0.751</td>\n",
       "      <td>vectorizer_2skipbigram</td>\n",
       "    </tr>\n",
       "    <tr>\n",
       "      <th>6</th>\n",
       "      <td>0.751</td>\n",
       "      <td>vectorizer_3skipbigram</td>\n",
       "    </tr>\n",
       "    <tr>\n",
       "      <th>7</th>\n",
       "      <td>0.769</td>\n",
       "      <td>vectorizer_unigrams</td>\n",
       "    </tr>\n",
       "    <tr>\n",
       "      <th>8</th>\n",
       "      <td>0.742</td>\n",
       "      <td>vectorizer_bigrams</td>\n",
       "    </tr>\n",
       "    <tr>\n",
       "      <th>9</th>\n",
       "      <td>0.691</td>\n",
       "      <td>vectorizer_trigrams</td>\n",
       "    </tr>\n",
       "  </tbody>\n",
       "</table>\n",
       "</div>"
      ],
      "text/plain": [
       "   accuracy                        name\n",
       "0     0.887                      oracle\n",
       "1     0.757  vectorizer_character_8gram\n",
       "2     0.763  vectorizer_character_7gram\n",
       "3     0.769  vectorizer_character_6gram\n",
       "4     0.751      vectorizer_1skipbigram\n",
       "5     0.751      vectorizer_2skipbigram\n",
       "6     0.751      vectorizer_3skipbigram\n",
       "7     0.769         vectorizer_unigrams\n",
       "8     0.742          vectorizer_bigrams\n",
       "9     0.691         vectorizer_trigrams"
      ]
     },
     "execution_count": 32,
     "metadata": {},
     "output_type": "execute_result"
    }
   ],
   "source": [
    "summary = []\n",
    "for name in result_read:\n",
    "    result = result_read[name]\n",
    "    accuracies = result[\"accuracies\"]\n",
    "    summary.append({\"name\": name, \"accuracy\":np.mean(accuracies)})\n",
    "df_summary = pd.DataFrame(summary)\n",
    "df_summary"
   ]
  },
  {
   "cell_type": "code",
   "execution_count": 33,
   "metadata": {},
   "outputs": [],
   "source": [
    "def get_metric_combined(X_raw, y_raw, vectorizers):\n",
    "    accuracies = []\n",
    "    for train, test in cv.split(X_raw, y_raw):\n",
    "        y_train = y_raw[train]\n",
    "        X_train = X_raw[train]\n",
    "        \n",
    "        y_test = y_raw[test]\n",
    "        X_test = X_raw[test]\n",
    "        \n",
    "        X_train_combined = None\n",
    "        X_test_combined = None\n",
    "        \n",
    "        for name in vectorizers:\n",
    "            print(\"processing {}\".format(name))\n",
    "            vectorizer = vectorizers[name]\n",
    "            X_train_tr = vectorizer.fit_transform(X_train)\n",
    "            X_test_tr = vectorizer.transform(X_test)\n",
    "            #print(X_train_tr.shape)\n",
    "            #print(X_test_tr.shape)\n",
    "            \n",
    "            if X_train_combined is None:\n",
    "                X_train_combined = X_train_tr\n",
    "                X_test_combined = X_test_tr\n",
    "            else:\n",
    "                t = hstack([X_train_combined, X_train_tr])\n",
    "                X_train_combined = t\n",
    "                #print(\"X_train_combined\", X_train_combined.shape)\n",
    "                t = hstack([X_test_combined, X_test_tr])\n",
    "                X_test_combined = t\n",
    "                #print(\"X_test_combined\", X_test_combined.shape)\n",
    "        #print(\"X_train_combined\", X_train_combined.shape)\n",
    "        #print(\"X_test_combined\", X_test_combined.shape)\n",
    "        \n",
    "        classifier.fit(X_train_combined, y_train)\n",
    "        y_preds = classifier.predict(X_test_combined)\n",
    "        accuracy = accuracy_score(y_test, y_preds)\n",
    "        accuracies.append(accuracy)\n",
    "        print(\"accuracy={}\".format(accuracy))\n",
    "    print(\"Combined classifier mean accuracy={}\".format(np.mean(accuracies)))\n",
    "    return accuracies\n",
    "        \n",
    "         "
   ]
  },
  {
   "cell_type": "code",
   "execution_count": 34,
   "metadata": {},
   "outputs": [
    {
     "name": "stdout",
     "output_type": "stream",
     "text": [
      "processing vectorizer_character_8gram\n",
      "processing vectorizer_character_7gram\n",
      "processing vectorizer_character_6gram\n",
      "processing vectorizer_1skipbigram\n",
      "processing vectorizer_2skipbigram\n",
      "processing vectorizer_3skipbigram\n",
      "processing vectorizer_unigrams\n",
      "processing vectorizer_bigrams\n",
      "processing vectorizer_trigrams\n",
      "accuracy=0.768595041322314\n",
      "processing vectorizer_character_8gram\n",
      "processing vectorizer_character_7gram\n",
      "processing vectorizer_character_6gram\n",
      "processing vectorizer_1skipbigram\n",
      "processing vectorizer_2skipbigram\n",
      "processing vectorizer_3skipbigram\n",
      "processing vectorizer_unigrams\n",
      "processing vectorizer_bigrams\n",
      "processing vectorizer_trigrams\n",
      "accuracy=0.7630853994490359\n",
      "processing vectorizer_character_8gram\n",
      "processing vectorizer_character_7gram\n",
      "processing vectorizer_character_6gram\n",
      "processing vectorizer_1skipbigram\n",
      "processing vectorizer_2skipbigram\n",
      "processing vectorizer_3skipbigram\n",
      "processing vectorizer_unigrams\n",
      "processing vectorizer_bigrams\n",
      "processing vectorizer_trigrams\n",
      "accuracy=0.7858126721763086\n",
      "processing vectorizer_character_8gram\n",
      "processing vectorizer_character_7gram\n",
      "processing vectorizer_character_6gram\n",
      "processing vectorizer_1skipbigram\n",
      "processing vectorizer_2skipbigram\n",
      "processing vectorizer_3skipbigram\n",
      "processing vectorizer_unigrams\n",
      "processing vectorizer_bigrams\n",
      "processing vectorizer_trigrams\n",
      "accuracy=0.768595041322314\n",
      "processing vectorizer_character_8gram\n",
      "processing vectorizer_character_7gram\n",
      "processing vectorizer_character_6gram\n",
      "processing vectorizer_1skipbigram\n",
      "processing vectorizer_2skipbigram\n",
      "processing vectorizer_3skipbigram\n",
      "processing vectorizer_unigrams\n",
      "processing vectorizer_bigrams\n",
      "processing vectorizer_trigrams\n",
      "accuracy=0.7594762232942798\n",
      "processing vectorizer_character_8gram\n",
      "processing vectorizer_character_7gram\n",
      "processing vectorizer_character_6gram\n",
      "processing vectorizer_1skipbigram\n",
      "processing vectorizer_2skipbigram\n",
      "processing vectorizer_3skipbigram\n",
      "processing vectorizer_unigrams\n",
      "processing vectorizer_bigrams\n",
      "processing vectorizer_trigrams\n",
      "accuracy=0.7746381805651275\n",
      "processing vectorizer_character_8gram\n",
      "processing vectorizer_character_7gram\n",
      "processing vectorizer_character_6gram\n",
      "processing vectorizer_1skipbigram\n",
      "processing vectorizer_2skipbigram\n",
      "processing vectorizer_3skipbigram\n",
      "processing vectorizer_unigrams\n",
      "processing vectorizer_bigrams\n",
      "processing vectorizer_trigrams\n",
      "accuracy=0.7606896551724138\n",
      "processing vectorizer_character_8gram\n",
      "processing vectorizer_character_7gram\n",
      "processing vectorizer_character_6gram\n",
      "processing vectorizer_1skipbigram\n",
      "processing vectorizer_2skipbigram\n",
      "processing vectorizer_3skipbigram\n",
      "processing vectorizer_unigrams\n",
      "processing vectorizer_bigrams\n",
      "processing vectorizer_trigrams\n",
      "accuracy=0.7724137931034483\n",
      "processing vectorizer_character_8gram\n",
      "processing vectorizer_character_7gram\n",
      "processing vectorizer_character_6gram\n",
      "processing vectorizer_1skipbigram\n",
      "processing vectorizer_2skipbigram\n",
      "processing vectorizer_3skipbigram\n",
      "processing vectorizer_unigrams\n",
      "processing vectorizer_bigrams\n",
      "processing vectorizer_trigrams\n",
      "accuracy=0.7703448275862069\n",
      "processing vectorizer_character_8gram\n",
      "processing vectorizer_character_7gram\n",
      "processing vectorizer_character_6gram\n",
      "processing vectorizer_1skipbigram\n",
      "processing vectorizer_2skipbigram\n",
      "processing vectorizer_3skipbigram\n",
      "processing vectorizer_unigrams\n",
      "processing vectorizer_bigrams\n",
      "processing vectorizer_trigrams\n",
      "accuracy=0.759144237405107\n",
      "Combined classifier mean accuracy=0.7682795071396555\n"
     ]
    },
    {
     "data": {
      "text/plain": [
       "[0.76859504132231404,\n",
       " 0.76308539944903586,\n",
       " 0.78581267217630857,\n",
       " 0.76859504132231404,\n",
       " 0.75947622329427977,\n",
       " 0.77463818056512745,\n",
       " 0.76068965517241383,\n",
       " 0.77241379310344827,\n",
       " 0.77034482758620693,\n",
       " 0.75914423740510695]"
      ]
     },
     "execution_count": 34,
     "metadata": {},
     "output_type": "execute_result"
    }
   ],
   "source": [
    "combined_features_scores = get_metric_combined(X_raw, y_raw, vectorizers)\n",
    "combined_features_scores"
   ]
  },
  {
   "cell_type": "markdown",
   "metadata": {},
   "source": [
    "### We check the learning curve of our best model ( character 4-gram)"
   ]
  },
  {
   "cell_type": "code",
   "execution_count": 35,
   "metadata": {},
   "outputs": [
    {
     "name": "stdout",
     "output_type": "stream",
     "text": [
      "(14509, 63099)\n",
      "train_sizes [ 1305  2145  2984  3823  4663  5502  6341  7181  8020  8860  9699 10538\n",
      " 11378 12217 13057]\n"
     ]
    },
    {
     "data": {
      "text/plain": [
       "<module 'matplotlib.pyplot' from '/home/tutysara/anaconda2/envs/dog-project/lib/python3.6/site-packages/matplotlib/pyplot.py'>"
      ]
     },
     "execution_count": 35,
     "metadata": {},
     "output_type": "execute_result"
    },
    {
     "data": {
      "image/png": "[encoded data removed]",
      "text/plain": [
       "<matplotlib.figure.Figure at 0x7f353ba13400>"
      ]
     },
     "metadata": {},
     "output_type": "display_data"
    }
   ],
   "source": [
    "## this is based on example code from sklearn documentation, adapted to our use\n",
    "### can be found at http://scikit-learn.org/stable/auto_examples/model_selection/plot_learning_curve.html\n",
    "from sklearn.model_selection import learning_curve\n",
    "\n",
    "def plot_learning_curve(estimator, title, X, y, ylim=None, cv=None,\n",
    "                        n_jobs=1, train_sizes=np.linspace(.1, 1, 15)):\n",
    "    \"\"\"\n",
    "    Generate a simple plot of the test and training learning curve.\n",
    "\n",
    "    Parameters\n",
    "    ----------\n",
    "    estimator : object type that implements the \"fit\" and \"predict\" methods\n",
    "        An object of that type which is cloned for each validation.\n",
    "\n",
    "    title : string\n",
    "        Title for the chart.\n",
    "\n",
    "    X : array-like, shape (n_samples, n_features)\n",
    "        Training vector, where n_samples is the number of samples and\n",
    "        n_features is the number of features.\n",
    "\n",
    "    y : array-like, shape (n_samples) or (n_samples, n_features), optional\n",
    "        Target relative to X for classification or regression;\n",
    "        None for unsupervised learning.\n",
    "\n",
    "    ylim : tuple, shape (ymin, ymax), optional\n",
    "        Defines minimum and maximum yvalues plotted.\n",
    "\n",
    "    cv : int, cross-validation generator or an iterable, optional\n",
    "        Determines the cross-validation splitting strategy.\n",
    "        Possible inputs for cv are:\n",
    "          - None, to use the default 3-fold cross-validation,\n",
    "          - integer, to specify the number of folds.\n",
    "          - An object to be used as a cross-validation generator.\n",
    "          - An iterable yielding train/test splits.\n",
    "\n",
    "        For integer/None inputs, if ``y`` is binary or multiclass,\n",
    "        :class:`StratifiedKFold` used. If the estimator is not a classifier\n",
    "        or if ``y`` is neither binary nor multiclass, :class:`KFold` is used.\n",
    "\n",
    "        Refer :ref:`User Guide <cross_validation>` for the various\n",
    "        cross-validators that can be used here.\n",
    "\n",
    "    n_jobs : integer, optional\n",
    "        Number of jobs to run in parallel (default 1).\n",
    "    \"\"\"\n",
    "    plt.figure()\n",
    "    plt.title(title)\n",
    "    if ylim is not None:\n",
    "        plt.ylim(*ylim)\n",
    "    plt.xlabel(\"Training examples\")\n",
    "    plt.ylabel(\"Score\")\n",
    "    print(X.shape)\n",
    "    train_sizes, train_scores, test_scores = learning_curve(\n",
    "        estimator, X, y, cv=cv, n_jobs=n_jobs, train_sizes=train_sizes, verbose=0)\n",
    "    print(\"train_sizes\", train_sizes)\n",
    "    train_scores_mean = np.mean(train_scores, axis=1)\n",
    "    train_scores_std = np.std(train_scores, axis=1)\n",
    "    test_scores_mean = np.mean(test_scores, axis=1)\n",
    "    test_scores_std = np.std(test_scores, axis=1)\n",
    "    plt.grid()\n",
    "\n",
    "    plt.fill_between(train_sizes, test_scores_mean - test_scores_std,\n",
    "                     test_scores_mean + test_scores_std, alpha=0.1, color=\"g\")\n",
    "\n",
    "    plt.plot(train_sizes, test_scores_mean, 'o-', color=\"g\",\n",
    "             label=\"Cross-validation score\")\n",
    "\n",
    "    plt.legend(loc=\"best\")\n",
    "    return plt\n",
    "\n",
    "X_train_tr = vectorizer_character_4gram.fit_transform(X_raw)\n",
    "plot_learning_curve(classifier, \"Learning Curve\", X_train_tr, y_raw, cv=cv, n_jobs=1)"
   ]
  },
  {
   "cell_type": "code",
   "execution_count": 36,
   "metadata": {},
   "outputs": [
    {
     "data": {
      "text/plain": [
       "array([[7242,   22,   10],\n",
       "       [  64, 4576,  196],\n",
       "       [  20,  271, 2108]])"
      ]
     },
     "execution_count": 36,
     "metadata": {},
     "output_type": "execute_result"
    }
   ],
   "source": [
    "from sklearn.metrics import confusion_matrix\n",
    "\n",
    "X_tr = vectorizer_character_4gram.fit_transform(X_raw)\n",
    "classifier.fit(X_tr, y_raw)\n",
    "y_preds = classifier.predict(X_tr)\n",
    "cnf_matrix = confusion_matrix(y_raw, y_preds)\n",
    "cnf_matrix   "
   ]
  },
  {
   "cell_type": "code",
   "execution_count": 37,
   "metadata": {},
   "outputs": [
    {
     "data": {
      "text/plain": [
       "0.94265628230753329"
      ]
     },
     "execution_count": 37,
     "metadata": {},
     "output_type": "execute_result"
    }
   ],
   "source": [
    "train, test = next(cv.split(X_raw, y_raw))\n",
    "\n",
    "y_train = y_raw[train]\n",
    "X_train = X_raw[train]\n",
    "\n",
    "y_test = y_raw[test]\n",
    "X_test = X_raw[test]\n",
    "\n",
    "X_train_tr = vectorizer_character_4gram.fit_transform(X_train)\n",
    "X_test_tr = vectorizer_character_4gram.transform(X_raw)\n",
    "    \n",
    "classifier.fit(X_train_tr, y_train)\n",
    "y_preds = classifier.predict(X_test_tr)\n",
    "cnf_matrix = confusion_matrix(y_raw, y_preds)\n",
    "accuracy = accuracy_score(y_raw, y_preds)\n",
    "accuracy   "
   ]
  },
  {
   "cell_type": "code",
   "execution_count": 38,
   "metadata": {},
   "outputs": [],
   "source": [
    "### code based on example code at --http://scikit-learn.org/stable/auto_examples/model_selection/\n",
    "### plot_confusion_matrix.html#sphx-glr-auto-examples-model-selection-plot-confusion-matrix-py\n",
    "import itertools\n",
    "def plot_confusion_matrix(cm, classes,\n",
    "                          normalize=False,\n",
    "                          title='Confusion matrix',\n",
    "                          cmap=plt.cm.Blues):\n",
    "    \"\"\"\n",
    "    This function prints and plots the confusion matrix.\n",
    "    Normalization can be applied by setting `normalize=True`.\n",
    "    \"\"\"\n",
    "    if normalize:\n",
    "        cm = cm.astype('float') / cm.sum(axis=1)[:, np.newaxis]\n",
    "        print(\"Normalized confusion matrix\")\n",
    "    else:\n",
    "        print('Confusion matrix, without normalization')\n",
    "\n",
    "    print(cm)\n",
    "\n",
    "    plt.imshow(cm, interpolation='nearest', cmap=cmap)\n",
    "    plt.title(title)\n",
    "    plt.colorbar()\n",
    "    tick_marks = np.arange(len(classes))\n",
    "    plt.xticks(tick_marks, classes, rotation=45)\n",
    "    plt.yticks(tick_marks, classes)\n",
    "\n",
    "    fmt = '.2f' if normalize else 'd'\n",
    "    thresh = cm.max() / 2.\n",
    "    for i, j in itertools.product(range(cm.shape[0]), range(cm.shape[1])):\n",
    "        plt.text(j, i, format(cm[i, j], fmt),\n",
    "                 horizontalalignment=\"center\",\n",
    "                 color=\"white\" if cm[i, j] > thresh else \"black\")\n",
    "\n",
    "    plt.tight_layout()\n",
    "    plt.ylabel('True label')\n",
    "    plt.xlabel('Predicted label')"
   ]
  },
  {
   "cell_type": "code",
   "execution_count": 39,
   "metadata": {},
   "outputs": [
    {
     "name": "stdout",
     "output_type": "stream",
     "text": [
      "Confusion matrix, without normalization\n",
      "[[7211   48   15]\n",
      " [ 124 4457  255]\n",
      " [  48  342 2009]]\n"
     ]
    },
    {
     "data": {
      "image/png": "[encoded data removed]",
      "text/plain": [
       "<matplotlib.figure.Figure at 0x7f352da469e8>"
      ]
     },
     "metadata": {},
     "output_type": "display_data"
    },
    {
     "name": "stdout",
     "output_type": "stream",
     "text": [
      "Normalized confusion matrix\n",
      "[[ 0.99133902  0.00659885  0.00206214]\n",
      " [ 0.02564103  0.92162945  0.05272953]\n",
      " [ 0.02000834  0.1425594   0.83743226]]\n"
     ]
    },
    {
     "data": {
      "image/png": "[encoded data removed]",
      "text/plain": [
       "<matplotlib.figure.Figure at 0x7f356e3ab438>"
      ]
     },
     "metadata": {},
     "output_type": "display_data"
    }
   ],
   "source": [
    "# Plot normalized confusion matrix\n",
    "class_names = [\"ok\", \"offensive\", \"hate\"]\n",
    "plt.figure()\n",
    "plot_confusion_matrix(cnf_matrix, classes=class_names,\n",
    "                      title='Confusion matrix, without normalization')\n",
    "\n",
    "plt.show()\n",
    "# Plot normalized confusion matrix\n",
    "plt.figure()\n",
    "plot_confusion_matrix(cnf_matrix, classes=class_names, normalize=True,\n",
    "                      title='Normalized confusion matrix')\n",
    "plt.show()"
   ]
  },
  {
   "cell_type": "markdown",
   "metadata": {},
   "source": [
    "### Some examples from each category"
   ]
  },
  {
   "cell_type": "markdown",
   "metadata": {},
   "source": [
    "#### Hate classified as Hate"
   ]
  },
  {
   "cell_type": "code",
   "execution_count": 40,
   "metadata": {},
   "outputs": [
    {
     "name": "stdout",
     "output_type": "stream",
     "text": [
      "at least i dont look like jefree starr faggot\n",
      "is a fag jackie jealous neeeee\n",
      "rt   looking like faggots?\n",
      "well i thought you knew actually rt  man why yall didnt tell me i was a dick riding ass faggot? yall not real\n",
      "#voteblue2014 yeah. cuz 8 million people in faggot ass #newyork are #chickenshit jews> fuck them right? fuck bibi netanyahu. right?\n"
     ]
    }
   ],
   "source": [
    "HATE = 2\n",
    "OFFENSIVE = 1\n",
    "OK = 0\n",
    "\n",
    "def print_sample(true_label, pred_label, take_n=5):\n",
    "    counter = 1\n",
    "    for i, item in enumerate(zip(y_raw,y_preds)):\n",
    "        t,p = item\n",
    "        if t== true_label and p == pred_label:\n",
    "            print(X_raw[i].strip())\n",
    "            counter += 1\n",
    "            if counter > take_n:\n",
    "                break\n",
    "                \n",
    "print_sample(HATE, HATE)"
   ]
  },
  {
   "cell_type": "markdown",
   "metadata": {},
   "source": [
    "#### Hate classified as offensive"
   ]
  },
  {
   "cell_type": "code",
   "execution_count": 41,
   "metadata": {},
   "outputs": [
    {
     "name": "stdout",
     "output_type": "stream",
     "text": [
      "fuck dykes\n",
      "your a dirty terrorist and your religion is a fucking joke, you go around screaming allah akbar doing terrorist shit. dirty faggot.\n",
      "got tired of niggas fuckin my shit up i had to come fuck wit da chinks $8 i dont care what they do\n",
      "_ã¢ûòìê pandora-sissy: my new site - pandora sissy love xoxoxo smallclitsissy.com #sissy #faggot...\n",
      "twistvh - great fucking dude, youre a faggot and ily\n"
     ]
    }
   ],
   "source": [
    "print_sample(HATE, OFFENSIVE)"
   ]
  },
  {
   "cell_type": "markdown",
   "metadata": {},
   "source": [
    "#### Offensive classified as Hate"
   ]
  },
  {
   "cell_type": "code",
   "execution_count": 42,
   "metadata": {},
   "outputs": [
    {
     "name": "stdout",
     "output_type": "stream",
     "text": [
      "i know. it was a joke, faggot.\n",
      "rt   rt  how side bitches be when you pick them up in daylight hours\n",
      "you raised your white cheerleader daughter all so she can get fucked by blacks lol _ã¢û_ì__ã¢û¢å_ã¢åì¬\n",
      "faggot\n",
      "people are faggots. dont give them attention; it defeats them more than a roast does.\n"
     ]
    }
   ],
   "source": [
    "print_sample(OFFENSIVE, HATE)"
   ]
  },
  {
   "cell_type": "markdown",
   "metadata": {},
   "source": [
    "#### Offensive classified as Offensive"
   ]
  },
  {
   "cell_type": "code",
   "execution_count": 43,
   "metadata": {},
   "outputs": [
    {
     "name": "stdout",
     "output_type": "stream",
     "text": [
      "warning: penny boards will make you a faggot\n",
      "you heard me bitch but any way im back th texas so wtf u talking about bitch ass nigga\n",
      "im tired of people saying i look like my brother & calling me deondre like serious succ my ass fag asses\n",
      "i cant stand no crybaby ass nigga. if you gonna act like a bitch i will leave yo ass after i instavideo yo stupid lookin ass\n",
      "ill fuck you til you love me faggot - mike tyson\n"
     ]
    }
   ],
   "source": [
    "print_sample(OFFENSIVE, OFFENSIVE)"
   ]
  },
  {
   "cell_type": "markdown",
   "metadata": {},
   "source": [
    "### Future Work"
   ]
  },
  {
   "cell_type": "markdown",
   "metadata": {},
   "source": [
    "### Try out Ensemble classifier"
   ]
  },
  {
   "cell_type": "code",
   "execution_count": 44,
   "metadata": {},
   "outputs": [
    {
     "data": {
      "text/plain": [
       "0.93679784961058654"
      ]
     },
     "execution_count": 44,
     "metadata": {},
     "output_type": "execute_result"
    }
   ],
   "source": [
    "from sklearn.linear_model import LogisticRegression\n",
    "from sklearn.naive_bayes import GaussianNB\n",
    "from sklearn.ensemble import RandomForestClassifier, VotingClassifier\n",
    "\n",
    "clf1 = LogisticRegression(random_state=5)\n",
    "clf2 = RandomForestClassifier(random_state=5)\n",
    "clf3 = GaussianNB()\n",
    "clf4 = LinearSVC()\n",
    "\n",
    "eclf1 = VotingClassifier(estimators=[\n",
    "        ('lr', clf1), ('rf', clf2), ('gnb', clf3), ('lrsvc', clf4)], voting='hard')\n",
    "\n",
    "y_train = y_raw[train]\n",
    "X_train = X_raw[train]\n",
    "\n",
    "y_test = y_raw[test]\n",
    "X_test = X_raw[test]\n",
    "\n",
    "X_train_tr = vectorizer_character_4gram.fit_transform(X_train)\n",
    "X_test_tr = vectorizer_character_4gram.transform(X_raw)\n",
    "    \n",
    "eclf1 = eclf1.fit(X_train_tr.toarray(), y_train)\n",
    "y_preds = eclf1.predict(X_test_tr.toarray())\n",
    "cnf_matrix = confusion_matrix(y_raw, y_preds)\n",
    "accuracy = accuracy_score(y_raw, y_preds)\n",
    "accuracy"
   ]
  },
  {
   "cell_type": "code",
   "execution_count": 45,
   "metadata": {},
   "outputs": [
    {
     "name": "stdout",
     "output_type": "stream",
     "text": [
      "Confusion matrix, without normalization\n",
      "[[7243   24    7]\n",
      " [ 204 4396  236]\n",
      " [  79  367 1953]]\n"
     ]
    },
    {
     "data": {
      "image/png": "[encoded data removed]",
      "text/plain": [
       "<matplotlib.figure.Figure at 0x7f352d154f28>"
      ]
     },
     "metadata": {},
     "output_type": "display_data"
    },
    {
     "name": "stdout",
     "output_type": "stream",
     "text": [
      "Normalized confusion matrix\n",
      "[[  9.95738246e-01   3.29942260e-03   9.62331592e-04]\n",
      " [  4.21836228e-02   9.09015715e-01   4.88006617e-02]\n",
      " [  3.29303877e-02   1.52980409e-01   8.14089204e-01]]\n"
     ]
    },
    {
     "data": {
      "image/png": "[encoded data removed]",
      "text/plain": [
       "<matplotlib.figure.Figure at 0x7f35776784a8>"
      ]
     },
     "metadata": {},
     "output_type": "display_data"
    }
   ],
   "source": [
    "# Plot normalized confusion matrix\n",
    "class_names = [\"ok\", \"offensive\", \"hate\"]\n",
    "plt.figure()\n",
    "plot_confusion_matrix(cnf_matrix, classes=class_names,\n",
    "                      title='Confusion matrix, without normalization')\n",
    "\n",
    "plt.show()\n",
    "# Plot normalized confusion matrix\n",
    "plt.figure()\n",
    "plot_confusion_matrix(cnf_matrix, classes=class_names, normalize=True,\n",
    "                      title='Normalized confusion matrix')\n",
    "plt.show()"
   ]
  },
  {
   "cell_type": "markdown",
   "metadata": {},
   "source": [
    "### Conclusion\n",
    "\n",
    "- We preprocessed the data and transformed it according to the methods stated in the paper\n",
    "- We have covered all the different vectorizers outlined in the paper and extracted many different set of features from the data\n",
    "- We wrote few utility methods to cover things like skipgrams\n",
    "- We executed the classifier on all feature sets and listed the scores of all classifiers\n",
    "- We implemented the baseline and oracle classifier\n",
    "- We implemented a combined classifier that uses all features from all vectorizers\n",
    "- We implemented the learning curve and found the effect of adding data on the classifier\n",
    "- We plotted the confusion matrix\n",
    "- We displayed some sample tweets from each of the groups of interest (Hate and Offensive) that are both correctly and incorrectly classified\n",
    "- We implemented an ensemble classifier which is mentioned in the future work\n"
   ]
  },
  {
   "cell_type": "code",
   "execution_count": null,
   "metadata": {},
   "outputs": [],
   "source": []
  }
 ],
 "metadata": {
  "kernelspec": {
   "display_name": "dog-project",
   "language": "python",
   "name": "dog-project"
  },
  "language_info": {
   "codemirror_mode": {
    "name": "ipython",
    "version": 3
   },
   "file_extension": ".py",
   "mimetype": "text/x-python",
   "name": "python",
   "nbconvert_exporter": "python",
   "pygments_lexer": "ipython3",
   "version": "3.6.1"
  }
 },
 "nbformat": 4,
 "nbformat_minor": 2
}
